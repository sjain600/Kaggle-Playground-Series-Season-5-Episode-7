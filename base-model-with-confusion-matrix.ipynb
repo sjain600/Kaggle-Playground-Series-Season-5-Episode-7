{
 "cells": [
  {
   "cell_type": "markdown",
   "id": "04c63dd3",
   "metadata": {
    "papermill": {
     "duration": 0.007641,
     "end_time": "2025-10-22T07:05:23.566703",
     "exception": false,
     "start_time": "2025-10-22T07:05:23.559062",
     "status": "completed"
    },
    "tags": []
   },
   "source": [
    "## Creating a base level notebook to implement what I learn from the IBM Capstone Project."
   ]
  },
  {
   "cell_type": "code",
   "execution_count": 1,
   "id": "4dddbd0a",
   "metadata": {
    "_cell_guid": "b1076dfc-b9ad-4769-8c92-a6c4dae69d19",
    "_uuid": "8f2839f25d086af736a60e9eeb907d3b93b6e0e5",
    "execution": {
     "iopub.execute_input": "2025-10-22T07:05:23.581610Z",
     "iopub.status.busy": "2025-10-22T07:05:23.581189Z",
     "iopub.status.idle": "2025-10-22T07:05:28.344656Z",
     "shell.execute_reply": "2025-10-22T07:05:28.343356Z"
    },
    "papermill": {
     "duration": 4.772731,
     "end_time": "2025-10-22T07:05:28.346288",
     "exception": false,
     "start_time": "2025-10-22T07:05:23.573557",
     "status": "completed"
    },
    "tags": []
   },
   "outputs": [
    {
     "name": "stdout",
     "output_type": "stream",
     "text": [
      "/kaggle/input/playground-series-s5e7/sample_submission.csv\n",
      "/kaggle/input/playground-series-s5e7/train.csv\n",
      "/kaggle/input/playground-series-s5e7/test.csv\n"
     ]
    }
   ],
   "source": [
    "# This Python 3 environment comes with many helpful analytics libraries installed\n",
    "# It is defined by the kaggle/python Docker image: https://github.com/kaggle/docker-python\n",
    "# For example, here's several helpful packages to load\n",
    "\n",
    "import numpy as np # linear algebra\n",
    "import pandas as pd # data processing, CSV file I/O (e.g. pd.read_csv)\n",
    "import matplotlib.pyplot as plt\n",
    "import seaborn as sns\n",
    "from sklearn.preprocessing import StandardScaler, LabelEncoder\n",
    "from sklearn.model_selection import train_test_split, StratifiedKFold, GridSearchCV\n",
    "from sklearn.linear_model import LogisticRegression\n",
    "# Support Vector Machine classification algorithm\n",
    "from sklearn.svm import SVC\n",
    "# Decision Tree classification algorithm\n",
    "from sklearn.tree import DecisionTreeClassifier\n",
    "# K Nearest Neighbors classification algorithm\n",
    "from sklearn.neighbors import KNeighborsClassifier\n",
    "from sklearn.impute import SimpleImputer\n",
    "\n",
    "# Input data files are available in the read-only \"../input/\" directory\n",
    "# For example, running this (by clicking run or pressing Shift+Enter) will list all files under the input directory\n",
    "\n",
    "import os\n",
    "for dirname, _, filenames in os.walk('/kaggle/input'):\n",
    "    for filename in filenames:\n",
    "        print(os.path.join(dirname, filename))\n",
    "\n",
    "# You can write up to 20GB to the current directory (/kaggle/working/) that gets preserved as output when you create a version using \"Save & Run All\" \n",
    "# You can also write temporary files to /kaggle/temp/, but they won't be saved outside of the current session"
   ]
  },
  {
   "cell_type": "code",
   "execution_count": 2,
   "id": "88c8d53c",
   "metadata": {
    "execution": {
     "iopub.execute_input": "2025-10-22T07:05:28.362559Z",
     "iopub.status.busy": "2025-10-22T07:05:28.362059Z",
     "iopub.status.idle": "2025-10-22T07:05:28.434419Z",
     "shell.execute_reply": "2025-10-22T07:05:28.433483Z"
    },
    "papermill": {
     "duration": 0.081933,
     "end_time": "2025-10-22T07:05:28.436186",
     "exception": false,
     "start_time": "2025-10-22T07:05:28.354253",
     "status": "completed"
    },
    "tags": []
   },
   "outputs": [],
   "source": [
    "train = pd.read_csv('/kaggle/input/playground-series-s5e7/train.csv')\n",
    "test = pd.read_csv('/kaggle/input/playground-series-s5e7/test.csv')"
   ]
  },
  {
   "cell_type": "code",
   "execution_count": 3,
   "id": "9974d96b",
   "metadata": {
    "execution": {
     "iopub.execute_input": "2025-10-22T07:05:28.451827Z",
     "iopub.status.busy": "2025-10-22T07:05:28.451512Z",
     "iopub.status.idle": "2025-10-22T07:05:28.473090Z",
     "shell.execute_reply": "2025-10-22T07:05:28.471392Z"
    },
    "papermill": {
     "duration": 0.031809,
     "end_time": "2025-10-22T07:05:28.475647",
     "exception": false,
     "start_time": "2025-10-22T07:05:28.443838",
     "status": "completed"
    },
    "tags": []
   },
   "outputs": [],
   "source": [
    "train.drop('id', axis=1, inplace=True)\n",
    "test.drop('id', axis=1, inplace=True)"
   ]
  },
  {
   "cell_type": "code",
   "execution_count": 4,
   "id": "01463688",
   "metadata": {
    "execution": {
     "iopub.execute_input": "2025-10-22T07:05:28.490904Z",
     "iopub.status.busy": "2025-10-22T07:05:28.490612Z",
     "iopub.status.idle": "2025-10-22T07:05:28.498463Z",
     "shell.execute_reply": "2025-10-22T07:05:28.497370Z"
    },
    "papermill": {
     "duration": 0.01746,
     "end_time": "2025-10-22T07:05:28.500119",
     "exception": false,
     "start_time": "2025-10-22T07:05:28.482659",
     "status": "completed"
    },
    "tags": []
   },
   "outputs": [
    {
     "data": {
      "text/plain": [
       "(18524, 8)"
      ]
     },
     "execution_count": 4,
     "metadata": {},
     "output_type": "execute_result"
    }
   ],
   "source": [
    "train.shape"
   ]
  },
  {
   "cell_type": "code",
   "execution_count": 5,
   "id": "bc4d9a08",
   "metadata": {
    "execution": {
     "iopub.execute_input": "2025-10-22T07:05:28.515857Z",
     "iopub.status.busy": "2025-10-22T07:05:28.515463Z",
     "iopub.status.idle": "2025-10-22T07:05:28.522901Z",
     "shell.execute_reply": "2025-10-22T07:05:28.521511Z"
    },
    "papermill": {
     "duration": 0.017724,
     "end_time": "2025-10-22T07:05:28.524587",
     "exception": false,
     "start_time": "2025-10-22T07:05:28.506863",
     "status": "completed"
    },
    "tags": []
   },
   "outputs": [
    {
     "data": {
      "text/plain": [
       "(6175, 7)"
      ]
     },
     "execution_count": 5,
     "metadata": {},
     "output_type": "execute_result"
    }
   ],
   "source": [
    "test.shape"
   ]
  },
  {
   "cell_type": "code",
   "execution_count": 6,
   "id": "6a2b278e",
   "metadata": {
    "execution": {
     "iopub.execute_input": "2025-10-22T07:05:28.539832Z",
     "iopub.status.busy": "2025-10-22T07:05:28.539529Z",
     "iopub.status.idle": "2025-10-22T07:05:28.566120Z",
     "shell.execute_reply": "2025-10-22T07:05:28.565023Z"
    },
    "papermill": {
     "duration": 0.036034,
     "end_time": "2025-10-22T07:05:28.567708",
     "exception": false,
     "start_time": "2025-10-22T07:05:28.531674",
     "status": "completed"
    },
    "tags": []
   },
   "outputs": [
    {
     "name": "stderr",
     "output_type": "stream",
     "text": [
      "/usr/local/lib/python3.11/dist-packages/pandas/io/formats/format.py:1458: RuntimeWarning: invalid value encountered in greater\n",
      "  has_large_values = (abs_vals > 1e6).any()\n",
      "/usr/local/lib/python3.11/dist-packages/pandas/io/formats/format.py:1459: RuntimeWarning: invalid value encountered in less\n",
      "  has_small_values = ((abs_vals < 10 ** (-self.digits)) & (abs_vals > 0)).any()\n",
      "/usr/local/lib/python3.11/dist-packages/pandas/io/formats/format.py:1459: RuntimeWarning: invalid value encountered in greater\n",
      "  has_small_values = ((abs_vals < 10 ** (-self.digits)) & (abs_vals > 0)).any()\n"
     ]
    },
    {
     "data": {
      "text/html": [
       "<div>\n",
       "<style scoped>\n",
       "    .dataframe tbody tr th:only-of-type {\n",
       "        vertical-align: middle;\n",
       "    }\n",
       "\n",
       "    .dataframe tbody tr th {\n",
       "        vertical-align: top;\n",
       "    }\n",
       "\n",
       "    .dataframe thead th {\n",
       "        text-align: right;\n",
       "    }\n",
       "</style>\n",
       "<table border=\"1\" class=\"dataframe\">\n",
       "  <thead>\n",
       "    <tr style=\"text-align: right;\">\n",
       "      <th></th>\n",
       "      <th>Time_spent_Alone</th>\n",
       "      <th>Stage_fear</th>\n",
       "      <th>Social_event_attendance</th>\n",
       "      <th>Going_outside</th>\n",
       "      <th>Drained_after_socializing</th>\n",
       "      <th>Friends_circle_size</th>\n",
       "      <th>Post_frequency</th>\n",
       "      <th>Personality</th>\n",
       "    </tr>\n",
       "  </thead>\n",
       "  <tbody>\n",
       "    <tr>\n",
       "      <th>0</th>\n",
       "      <td>0.0</td>\n",
       "      <td>No</td>\n",
       "      <td>6.0</td>\n",
       "      <td>4.0</td>\n",
       "      <td>No</td>\n",
       "      <td>15.0</td>\n",
       "      <td>5.0</td>\n",
       "      <td>Extrovert</td>\n",
       "    </tr>\n",
       "    <tr>\n",
       "      <th>1</th>\n",
       "      <td>1.0</td>\n",
       "      <td>No</td>\n",
       "      <td>7.0</td>\n",
       "      <td>3.0</td>\n",
       "      <td>No</td>\n",
       "      <td>10.0</td>\n",
       "      <td>8.0</td>\n",
       "      <td>Extrovert</td>\n",
       "    </tr>\n",
       "    <tr>\n",
       "      <th>2</th>\n",
       "      <td>6.0</td>\n",
       "      <td>Yes</td>\n",
       "      <td>1.0</td>\n",
       "      <td>0.0</td>\n",
       "      <td>NaN</td>\n",
       "      <td>3.0</td>\n",
       "      <td>0.0</td>\n",
       "      <td>Introvert</td>\n",
       "    </tr>\n",
       "    <tr>\n",
       "      <th>3</th>\n",
       "      <td>3.0</td>\n",
       "      <td>No</td>\n",
       "      <td>7.0</td>\n",
       "      <td>3.0</td>\n",
       "      <td>No</td>\n",
       "      <td>11.0</td>\n",
       "      <td>5.0</td>\n",
       "      <td>Extrovert</td>\n",
       "    </tr>\n",
       "    <tr>\n",
       "      <th>4</th>\n",
       "      <td>1.0</td>\n",
       "      <td>No</td>\n",
       "      <td>4.0</td>\n",
       "      <td>4.0</td>\n",
       "      <td>No</td>\n",
       "      <td>13.0</td>\n",
       "      <td>NaN</td>\n",
       "      <td>Extrovert</td>\n",
       "    </tr>\n",
       "  </tbody>\n",
       "</table>\n",
       "</div>"
      ],
      "text/plain": [
       "   Time_spent_Alone Stage_fear  Social_event_attendance  Going_outside  \\\n",
       "0               0.0         No                      6.0            4.0   \n",
       "1               1.0         No                      7.0            3.0   \n",
       "2               6.0        Yes                      1.0            0.0   \n",
       "3               3.0         No                      7.0            3.0   \n",
       "4               1.0         No                      4.0            4.0   \n",
       "\n",
       "  Drained_after_socializing  Friends_circle_size  Post_frequency Personality  \n",
       "0                        No                 15.0             5.0   Extrovert  \n",
       "1                        No                 10.0             8.0   Extrovert  \n",
       "2                       NaN                  3.0             0.0   Introvert  \n",
       "3                        No                 11.0             5.0   Extrovert  \n",
       "4                        No                 13.0             NaN   Extrovert  "
      ]
     },
     "execution_count": 6,
     "metadata": {},
     "output_type": "execute_result"
    }
   ],
   "source": [
    "train.head()"
   ]
  },
  {
   "cell_type": "code",
   "execution_count": 7,
   "id": "c24b0fcd",
   "metadata": {
    "execution": {
     "iopub.execute_input": "2025-10-22T07:05:28.584487Z",
     "iopub.status.busy": "2025-10-22T07:05:28.584169Z",
     "iopub.status.idle": "2025-10-22T07:05:28.596243Z",
     "shell.execute_reply": "2025-10-22T07:05:28.595356Z"
    },
    "papermill": {
     "duration": 0.02234,
     "end_time": "2025-10-22T07:05:28.597708",
     "exception": false,
     "start_time": "2025-10-22T07:05:28.575368",
     "status": "completed"
    },
    "tags": []
   },
   "outputs": [
    {
     "data": {
      "text/plain": [
       "Personality\n",
       "Extrovert    13699\n",
       "Introvert     4825\n",
       "Name: count, dtype: int64"
      ]
     },
     "execution_count": 7,
     "metadata": {},
     "output_type": "execute_result"
    }
   ],
   "source": [
    "train['Personality'].value_counts()"
   ]
  },
  {
   "cell_type": "code",
   "execution_count": 8,
   "id": "1de0ecef",
   "metadata": {
    "execution": {
     "iopub.execute_input": "2025-10-22T07:05:28.613686Z",
     "iopub.status.busy": "2025-10-22T07:05:28.613354Z",
     "iopub.status.idle": "2025-10-22T07:05:28.620382Z",
     "shell.execute_reply": "2025-10-22T07:05:28.619468Z"
    },
    "papermill": {
     "duration": 0.016675,
     "end_time": "2025-10-22T07:05:28.622010",
     "exception": false,
     "start_time": "2025-10-22T07:05:28.605335",
     "status": "completed"
    },
    "tags": []
   },
   "outputs": [
    {
     "data": {
      "text/plain": [
       "Time_spent_Alone             float64\n",
       "Stage_fear                    object\n",
       "Social_event_attendance      float64\n",
       "Going_outside                float64\n",
       "Drained_after_socializing     object\n",
       "Friends_circle_size          float64\n",
       "Post_frequency               float64\n",
       "Personality                   object\n",
       "dtype: object"
      ]
     },
     "execution_count": 8,
     "metadata": {},
     "output_type": "execute_result"
    }
   ],
   "source": [
    "train.dtypes"
   ]
  },
  {
   "cell_type": "code",
   "execution_count": 9,
   "id": "d08bad99",
   "metadata": {
    "execution": {
     "iopub.execute_input": "2025-10-22T07:05:28.637921Z",
     "iopub.status.busy": "2025-10-22T07:05:28.637634Z",
     "iopub.status.idle": "2025-10-22T07:05:28.648561Z",
     "shell.execute_reply": "2025-10-22T07:05:28.647684Z"
    },
    "papermill": {
     "duration": 0.02146,
     "end_time": "2025-10-22T07:05:28.650695",
     "exception": false,
     "start_time": "2025-10-22T07:05:28.629235",
     "status": "completed"
    },
    "tags": []
   },
   "outputs": [
    {
     "data": {
      "text/plain": [
       "Time_spent_Alone             1190\n",
       "Stage_fear                   1893\n",
       "Social_event_attendance      1180\n",
       "Going_outside                1466\n",
       "Drained_after_socializing    1149\n",
       "Friends_circle_size          1054\n",
       "Post_frequency               1264\n",
       "Personality                     0\n",
       "dtype: int64"
      ]
     },
     "execution_count": 9,
     "metadata": {},
     "output_type": "execute_result"
    }
   ],
   "source": [
    "train.isnull().sum()"
   ]
  },
  {
   "cell_type": "code",
   "execution_count": 10,
   "id": "53bfe06d",
   "metadata": {
    "execution": {
     "iopub.execute_input": "2025-10-22T07:05:28.668357Z",
     "iopub.status.busy": "2025-10-22T07:05:28.668045Z",
     "iopub.status.idle": "2025-10-22T07:05:28.678099Z",
     "shell.execute_reply": "2025-10-22T07:05:28.677024Z"
    },
    "papermill": {
     "duration": 0.020616,
     "end_time": "2025-10-22T07:05:28.680006",
     "exception": false,
     "start_time": "2025-10-22T07:05:28.659390",
     "status": "completed"
    },
    "tags": []
   },
   "outputs": [
    {
     "data": {
      "text/plain": [
       "Time_spent_Alone             425\n",
       "Stage_fear                   598\n",
       "Social_event_attendance      397\n",
       "Going_outside                466\n",
       "Drained_after_socializing    432\n",
       "Friends_circle_size          350\n",
       "Post_frequency               408\n",
       "dtype: int64"
      ]
     },
     "execution_count": 10,
     "metadata": {},
     "output_type": "execute_result"
    }
   ],
   "source": [
    "test.isnull().sum()"
   ]
  },
  {
   "cell_type": "code",
   "execution_count": 11,
   "id": "6026ee7f",
   "metadata": {
    "execution": {
     "iopub.execute_input": "2025-10-22T07:05:28.696021Z",
     "iopub.status.busy": "2025-10-22T07:05:28.695755Z",
     "iopub.status.idle": "2025-10-22T07:05:28.739346Z",
     "shell.execute_reply": "2025-10-22T07:05:28.738375Z"
    },
    "papermill": {
     "duration": 0.053515,
     "end_time": "2025-10-22T07:05:28.741026",
     "exception": false,
     "start_time": "2025-10-22T07:05:28.687511",
     "status": "completed"
    },
    "tags": []
   },
   "outputs": [],
   "source": [
    "def preprocess(df):\n",
    "    \n",
    "    df['Stage_fear'] = df['Stage_fear'].fillna('Unknown').map({'Yes': 1, 'No': 0, 'Unknown': -1})\n",
    "    df['Drained_after_socializing'] = df['Drained_after_socializing'].fillna('Unknown').map({'Yes': 1, 'No': 0, 'Unknown': -1})\n",
    "    num_cols = test.select_dtypes(exclude='object').columns.to_list()\n",
    "    impute = SimpleImputer(strategy='median')\n",
    "    df[num_cols] = impute.fit_transform(df[num_cols])\n",
    "\n",
    "    return df\n",
    "\n",
    "train = preprocess(train)\n",
    "test = preprocess(test)"
   ]
  },
  {
   "cell_type": "code",
   "execution_count": 12,
   "id": "070d25f5",
   "metadata": {
    "execution": {
     "iopub.execute_input": "2025-10-22T07:05:28.760024Z",
     "iopub.status.busy": "2025-10-22T07:05:28.759748Z",
     "iopub.status.idle": "2025-10-22T07:05:28.767235Z",
     "shell.execute_reply": "2025-10-22T07:05:28.765966Z"
    },
    "papermill": {
     "duration": 0.020123,
     "end_time": "2025-10-22T07:05:28.768782",
     "exception": false,
     "start_time": "2025-10-22T07:05:28.748659",
     "status": "completed"
    },
    "tags": []
   },
   "outputs": [],
   "source": [
    "train['Personality'] = train['Personality'].map({'Extrovert': 1, 'Introvert': 0})"
   ]
  },
  {
   "cell_type": "code",
   "execution_count": 13,
   "id": "dc3de04c",
   "metadata": {
    "execution": {
     "iopub.execute_input": "2025-10-22T07:05:28.785259Z",
     "iopub.status.busy": "2025-10-22T07:05:28.784935Z",
     "iopub.status.idle": "2025-10-22T07:05:28.791055Z",
     "shell.execute_reply": "2025-10-22T07:05:28.790162Z"
    },
    "papermill": {
     "duration": 0.016369,
     "end_time": "2025-10-22T07:05:28.792662",
     "exception": false,
     "start_time": "2025-10-22T07:05:28.776293",
     "status": "completed"
    },
    "tags": []
   },
   "outputs": [
    {
     "data": {
      "text/plain": [
       "(18524, 8)"
      ]
     },
     "execution_count": 13,
     "metadata": {},
     "output_type": "execute_result"
    }
   ],
   "source": [
    "train.shape"
   ]
  },
  {
   "cell_type": "code",
   "execution_count": 14,
   "id": "212faa2f",
   "metadata": {
    "execution": {
     "iopub.execute_input": "2025-10-22T07:05:28.811279Z",
     "iopub.status.busy": "2025-10-22T07:05:28.810939Z",
     "iopub.status.idle": "2025-10-22T07:05:28.817949Z",
     "shell.execute_reply": "2025-10-22T07:05:28.816878Z"
    },
    "papermill": {
     "duration": 0.01781,
     "end_time": "2025-10-22T07:05:28.819769",
     "exception": false,
     "start_time": "2025-10-22T07:05:28.801959",
     "status": "completed"
    },
    "tags": []
   },
   "outputs": [
    {
     "data": {
      "text/plain": [
       "(6175, 7)"
      ]
     },
     "execution_count": 14,
     "metadata": {},
     "output_type": "execute_result"
    }
   ],
   "source": [
    "test.shape\n"
   ]
  },
  {
   "cell_type": "code",
   "execution_count": 15,
   "id": "7d2c57d8",
   "metadata": {
    "execution": {
     "iopub.execute_input": "2025-10-22T07:05:28.837207Z",
     "iopub.status.busy": "2025-10-22T07:05:28.836892Z",
     "iopub.status.idle": "2025-10-22T07:05:28.849376Z",
     "shell.execute_reply": "2025-10-22T07:05:28.848500Z"
    },
    "papermill": {
     "duration": 0.022715,
     "end_time": "2025-10-22T07:05:28.850782",
     "exception": false,
     "start_time": "2025-10-22T07:05:28.828067",
     "status": "completed"
    },
    "tags": []
   },
   "outputs": [
    {
     "data": {
      "text/html": [
       "<div>\n",
       "<style scoped>\n",
       "    .dataframe tbody tr th:only-of-type {\n",
       "        vertical-align: middle;\n",
       "    }\n",
       "\n",
       "    .dataframe tbody tr th {\n",
       "        vertical-align: top;\n",
       "    }\n",
       "\n",
       "    .dataframe thead th {\n",
       "        text-align: right;\n",
       "    }\n",
       "</style>\n",
       "<table border=\"1\" class=\"dataframe\">\n",
       "  <thead>\n",
       "    <tr style=\"text-align: right;\">\n",
       "      <th></th>\n",
       "      <th>Time_spent_Alone</th>\n",
       "      <th>Stage_fear</th>\n",
       "      <th>Social_event_attendance</th>\n",
       "      <th>Going_outside</th>\n",
       "      <th>Drained_after_socializing</th>\n",
       "      <th>Friends_circle_size</th>\n",
       "      <th>Post_frequency</th>\n",
       "      <th>Personality</th>\n",
       "    </tr>\n",
       "  </thead>\n",
       "  <tbody>\n",
       "    <tr>\n",
       "      <th>0</th>\n",
       "      <td>0.0</td>\n",
       "      <td>0</td>\n",
       "      <td>6.0</td>\n",
       "      <td>4.0</td>\n",
       "      <td>0</td>\n",
       "      <td>15.0</td>\n",
       "      <td>5.0</td>\n",
       "      <td>1</td>\n",
       "    </tr>\n",
       "    <tr>\n",
       "      <th>1</th>\n",
       "      <td>1.0</td>\n",
       "      <td>0</td>\n",
       "      <td>7.0</td>\n",
       "      <td>3.0</td>\n",
       "      <td>0</td>\n",
       "      <td>10.0</td>\n",
       "      <td>8.0</td>\n",
       "      <td>1</td>\n",
       "    </tr>\n",
       "    <tr>\n",
       "      <th>2</th>\n",
       "      <td>6.0</td>\n",
       "      <td>1</td>\n",
       "      <td>1.0</td>\n",
       "      <td>0.0</td>\n",
       "      <td>-1</td>\n",
       "      <td>3.0</td>\n",
       "      <td>0.0</td>\n",
       "      <td>0</td>\n",
       "    </tr>\n",
       "    <tr>\n",
       "      <th>3</th>\n",
       "      <td>3.0</td>\n",
       "      <td>0</td>\n",
       "      <td>7.0</td>\n",
       "      <td>3.0</td>\n",
       "      <td>0</td>\n",
       "      <td>11.0</td>\n",
       "      <td>5.0</td>\n",
       "      <td>1</td>\n",
       "    </tr>\n",
       "    <tr>\n",
       "      <th>4</th>\n",
       "      <td>1.0</td>\n",
       "      <td>0</td>\n",
       "      <td>4.0</td>\n",
       "      <td>4.0</td>\n",
       "      <td>0</td>\n",
       "      <td>13.0</td>\n",
       "      <td>5.0</td>\n",
       "      <td>1</td>\n",
       "    </tr>\n",
       "  </tbody>\n",
       "</table>\n",
       "</div>"
      ],
      "text/plain": [
       "   Time_spent_Alone  Stage_fear  Social_event_attendance  Going_outside  \\\n",
       "0               0.0           0                      6.0            4.0   \n",
       "1               1.0           0                      7.0            3.0   \n",
       "2               6.0           1                      1.0            0.0   \n",
       "3               3.0           0                      7.0            3.0   \n",
       "4               1.0           0                      4.0            4.0   \n",
       "\n",
       "   Drained_after_socializing  Friends_circle_size  Post_frequency  Personality  \n",
       "0                          0                 15.0             5.0            1  \n",
       "1                          0                 10.0             8.0            1  \n",
       "2                         -1                  3.0             0.0            0  \n",
       "3                          0                 11.0             5.0            1  \n",
       "4                          0                 13.0             5.0            1  "
      ]
     },
     "execution_count": 15,
     "metadata": {},
     "output_type": "execute_result"
    }
   ],
   "source": [
    "train.head()"
   ]
  },
  {
   "cell_type": "code",
   "execution_count": 16,
   "id": "cefaf975",
   "metadata": {
    "execution": {
     "iopub.execute_input": "2025-10-22T07:05:28.868272Z",
     "iopub.status.busy": "2025-10-22T07:05:28.867933Z",
     "iopub.status.idle": "2025-10-22T07:05:28.872934Z",
     "shell.execute_reply": "2025-10-22T07:05:28.871994Z"
    },
    "papermill": {
     "duration": 0.015591,
     "end_time": "2025-10-22T07:05:28.874584",
     "exception": false,
     "start_time": "2025-10-22T07:05:28.858993",
     "status": "completed"
    },
    "tags": []
   },
   "outputs": [],
   "source": [
    "train.reset_index(drop=True, inplace=True)\n",
    "test.reset_index(drop=True, inplace=True)"
   ]
  },
  {
   "cell_type": "code",
   "execution_count": 17,
   "id": "a6e65c58",
   "metadata": {
    "execution": {
     "iopub.execute_input": "2025-10-22T07:05:28.891297Z",
     "iopub.status.busy": "2025-10-22T07:05:28.890964Z",
     "iopub.status.idle": "2025-10-22T07:05:28.927358Z",
     "shell.execute_reply": "2025-10-22T07:05:28.926370Z"
    },
    "papermill": {
     "duration": 0.046407,
     "end_time": "2025-10-22T07:05:28.928845",
     "exception": false,
     "start_time": "2025-10-22T07:05:28.882438",
     "status": "completed"
    },
    "tags": []
   },
   "outputs": [
    {
     "data": {
      "text/html": [
       "<div>\n",
       "<style scoped>\n",
       "    .dataframe tbody tr th:only-of-type {\n",
       "        vertical-align: middle;\n",
       "    }\n",
       "\n",
       "    .dataframe tbody tr th {\n",
       "        vertical-align: top;\n",
       "    }\n",
       "\n",
       "    .dataframe thead th {\n",
       "        text-align: right;\n",
       "    }\n",
       "</style>\n",
       "<table border=\"1\" class=\"dataframe\">\n",
       "  <thead>\n",
       "    <tr style=\"text-align: right;\">\n",
       "      <th></th>\n",
       "      <th>Time_spent_Alone</th>\n",
       "      <th>Stage_fear</th>\n",
       "      <th>Social_event_attendance</th>\n",
       "      <th>Going_outside</th>\n",
       "      <th>Drained_after_socializing</th>\n",
       "      <th>Friends_circle_size</th>\n",
       "      <th>Post_frequency</th>\n",
       "      <th>Personality</th>\n",
       "    </tr>\n",
       "  </thead>\n",
       "  <tbody>\n",
       "    <tr>\n",
       "      <th>count</th>\n",
       "      <td>18524.000000</td>\n",
       "      <td>18524.000000</td>\n",
       "      <td>18524.000000</td>\n",
       "      <td>18524.000000</td>\n",
       "      <td>18524.000000</td>\n",
       "      <td>18524.000000</td>\n",
       "      <td>18524.000000</td>\n",
       "      <td>18524.000000</td>\n",
       "    </tr>\n",
       "    <tr>\n",
       "      <th>mean</th>\n",
       "      <td>3.064673</td>\n",
       "      <td>0.114932</td>\n",
       "      <td>5.248219</td>\n",
       "      <td>4.040812</td>\n",
       "      <td>0.157255</td>\n",
       "      <td>7.996923</td>\n",
       "      <td>4.983319</td>\n",
       "      <td>0.739527</td>\n",
       "    </tr>\n",
       "    <tr>\n",
       "      <th>std</th>\n",
       "      <td>2.919057</td>\n",
       "      <td>0.553284</td>\n",
       "      <td>2.665002</td>\n",
       "      <td>1.979312</td>\n",
       "      <td>0.506552</td>\n",
       "      <td>4.101561</td>\n",
       "      <td>2.779172</td>\n",
       "      <td>0.438905</td>\n",
       "    </tr>\n",
       "    <tr>\n",
       "      <th>min</th>\n",
       "      <td>0.000000</td>\n",
       "      <td>-1.000000</td>\n",
       "      <td>0.000000</td>\n",
       "      <td>0.000000</td>\n",
       "      <td>-1.000000</td>\n",
       "      <td>0.000000</td>\n",
       "      <td>0.000000</td>\n",
       "      <td>0.000000</td>\n",
       "    </tr>\n",
       "    <tr>\n",
       "      <th>25%</th>\n",
       "      <td>1.000000</td>\n",
       "      <td>0.000000</td>\n",
       "      <td>3.000000</td>\n",
       "      <td>3.000000</td>\n",
       "      <td>0.000000</td>\n",
       "      <td>5.000000</td>\n",
       "      <td>3.000000</td>\n",
       "      <td>0.000000</td>\n",
       "    </tr>\n",
       "    <tr>\n",
       "      <th>50%</th>\n",
       "      <td>2.000000</td>\n",
       "      <td>0.000000</td>\n",
       "      <td>5.000000</td>\n",
       "      <td>4.000000</td>\n",
       "      <td>0.000000</td>\n",
       "      <td>8.000000</td>\n",
       "      <td>5.000000</td>\n",
       "      <td>1.000000</td>\n",
       "    </tr>\n",
       "    <tr>\n",
       "      <th>75%</th>\n",
       "      <td>4.000000</td>\n",
       "      <td>0.000000</td>\n",
       "      <td>7.000000</td>\n",
       "      <td>6.000000</td>\n",
       "      <td>0.000000</td>\n",
       "      <td>11.000000</td>\n",
       "      <td>7.000000</td>\n",
       "      <td>1.000000</td>\n",
       "    </tr>\n",
       "    <tr>\n",
       "      <th>max</th>\n",
       "      <td>11.000000</td>\n",
       "      <td>1.000000</td>\n",
       "      <td>10.000000</td>\n",
       "      <td>7.000000</td>\n",
       "      <td>1.000000</td>\n",
       "      <td>15.000000</td>\n",
       "      <td>10.000000</td>\n",
       "      <td>1.000000</td>\n",
       "    </tr>\n",
       "  </tbody>\n",
       "</table>\n",
       "</div>"
      ],
      "text/plain": [
       "       Time_spent_Alone    Stage_fear  Social_event_attendance  Going_outside  \\\n",
       "count      18524.000000  18524.000000             18524.000000   18524.000000   \n",
       "mean           3.064673      0.114932                 5.248219       4.040812   \n",
       "std            2.919057      0.553284                 2.665002       1.979312   \n",
       "min            0.000000     -1.000000                 0.000000       0.000000   \n",
       "25%            1.000000      0.000000                 3.000000       3.000000   \n",
       "50%            2.000000      0.000000                 5.000000       4.000000   \n",
       "75%            4.000000      0.000000                 7.000000       6.000000   \n",
       "max           11.000000      1.000000                10.000000       7.000000   \n",
       "\n",
       "       Drained_after_socializing  Friends_circle_size  Post_frequency  \\\n",
       "count               18524.000000         18524.000000    18524.000000   \n",
       "mean                    0.157255             7.996923        4.983319   \n",
       "std                     0.506552             4.101561        2.779172   \n",
       "min                    -1.000000             0.000000        0.000000   \n",
       "25%                     0.000000             5.000000        3.000000   \n",
       "50%                     0.000000             8.000000        5.000000   \n",
       "75%                     0.000000            11.000000        7.000000   \n",
       "max                     1.000000            15.000000       10.000000   \n",
       "\n",
       "        Personality  \n",
       "count  18524.000000  \n",
       "mean       0.739527  \n",
       "std        0.438905  \n",
       "min        0.000000  \n",
       "25%        0.000000  \n",
       "50%        1.000000  \n",
       "75%        1.000000  \n",
       "max        1.000000  "
      ]
     },
     "execution_count": 17,
     "metadata": {},
     "output_type": "execute_result"
    }
   ],
   "source": [
    "train.describe()"
   ]
  },
  {
   "cell_type": "code",
   "execution_count": 18,
   "id": "40f1436c",
   "metadata": {
    "execution": {
     "iopub.execute_input": "2025-10-22T07:05:28.945946Z",
     "iopub.status.busy": "2025-10-22T07:05:28.945647Z",
     "iopub.status.idle": "2025-10-22T07:05:29.186766Z",
     "shell.execute_reply": "2025-10-22T07:05:29.185678Z"
    },
    "papermill": {
     "duration": 0.251373,
     "end_time": "2025-10-22T07:05:29.188329",
     "exception": false,
     "start_time": "2025-10-22T07:05:28.936956",
     "status": "completed"
    },
    "tags": []
   },
   "outputs": [
    {
     "data": {
      "text/plain": [
       "<Axes: xlabel='Time_spent_Alone'>"
      ]
     },
     "execution_count": 18,
     "metadata": {},
     "output_type": "execute_result"
    },
    {
     "data": {
      "image/png": "[encoded data removed]",
      "text/plain": [
       "<Figure size 1000x600 with 1 Axes>"
      ]
     },
     "metadata": {},
     "output_type": "display_data"
    }
   ],
   "source": [
    "plt.figure(figsize=(10, 6))\n",
    "sns.boxplot(x='Time_spent_Alone', data=train, color='orange')"
   ]
  },
  {
   "cell_type": "code",
   "execution_count": 19,
   "id": "fb139db9",
   "metadata": {
    "execution": {
     "iopub.execute_input": "2025-10-22T07:05:29.207714Z",
     "iopub.status.busy": "2025-10-22T07:05:29.207388Z",
     "iopub.status.idle": "2025-10-22T07:05:29.214857Z",
     "shell.execute_reply": "2025-10-22T07:05:29.213096Z"
    },
    "papermill": {
     "duration": 0.019418,
     "end_time": "2025-10-22T07:05:29.216760",
     "exception": false,
     "start_time": "2025-10-22T07:05:29.197342",
     "status": "completed"
    },
    "tags": []
   },
   "outputs": [],
   "source": [
    "X = train.copy()\n",
    "y = X.pop('Personality')"
   ]
  },
  {
   "cell_type": "code",
   "execution_count": 20,
   "id": "b921c365",
   "metadata": {
    "execution": {
     "iopub.execute_input": "2025-10-22T07:05:29.237458Z",
     "iopub.status.busy": "2025-10-22T07:05:29.236454Z",
     "iopub.status.idle": "2025-10-22T07:05:29.245586Z",
     "shell.execute_reply": "2025-10-22T07:05:29.244612Z"
    },
    "papermill": {
     "duration": 0.020321,
     "end_time": "2025-10-22T07:05:29.247028",
     "exception": false,
     "start_time": "2025-10-22T07:05:29.226707",
     "status": "completed"
    },
    "tags": []
   },
   "outputs": [],
   "source": [
    "X_train, X_valid, y_train, y_valid = train_test_split(X, y, test_size=0.25, random_state=2)"
   ]
  },
  {
   "cell_type": "code",
   "execution_count": 21,
   "id": "ba960a1a",
   "metadata": {
    "execution": {
     "iopub.execute_input": "2025-10-22T07:05:29.265338Z",
     "iopub.status.busy": "2025-10-22T07:05:29.264986Z",
     "iopub.status.idle": "2025-10-22T07:05:29.271506Z",
     "shell.execute_reply": "2025-10-22T07:05:29.270399Z"
    },
    "papermill": {
     "duration": 0.017728,
     "end_time": "2025-10-22T07:05:29.273181",
     "exception": false,
     "start_time": "2025-10-22T07:05:29.255453",
     "status": "completed"
    },
    "tags": []
   },
   "outputs": [],
   "source": [
    "def plot_confusion_matrix(y,y_predict):\n",
    "    \"this function plots the confusion matrix\"\n",
    "    from sklearn.metrics import confusion_matrix\n",
    "\n",
    "    cm = confusion_matrix(y, y_predict)\n",
    "    plt.figure(figsize=(10, 6))\n",
    "    ax= plt.subplot()\n",
    "    sns.heatmap(cm, annot=True, fmt='d', ax = ax); #annot=True to annotate cells\n",
    "    ax.set_xlabel('Predicted labels')\n",
    "    ax.set_ylabel('True labels')\n",
    "    ax.set_title('Confusion Matrix'); \n",
    "    ax.xaxis.set_ticklabels(['Introvert', 'Extrovert']); ax.yaxis.set_ticklabels(['Introvert', 'Extrovert']) \n",
    "    plt.show() "
   ]
  },
  {
   "cell_type": "code",
   "execution_count": 22,
   "id": "f4f45a0b",
   "metadata": {
    "execution": {
     "iopub.execute_input": "2025-10-22T07:05:29.291664Z",
     "iopub.status.busy": "2025-10-22T07:05:29.291350Z",
     "iopub.status.idle": "2025-10-22T07:05:29.296130Z",
     "shell.execute_reply": "2025-10-22T07:05:29.295294Z"
    },
    "papermill": {
     "duration": 0.015736,
     "end_time": "2025-10-22T07:05:29.297689",
     "exception": false,
     "start_time": "2025-10-22T07:05:29.281953",
     "status": "completed"
    },
    "tags": []
   },
   "outputs": [],
   "source": [
    "cv = StratifiedKFold(n_splits=15, random_state=2, shuffle=True)"
   ]
  },
  {
   "cell_type": "markdown",
   "id": "4200dbff",
   "metadata": {
    "papermill": {
     "duration": 0.007948,
     "end_time": "2025-10-22T07:05:29.314409",
     "exception": false,
     "start_time": "2025-10-22T07:05:29.306461",
     "status": "completed"
    },
    "tags": []
   },
   "source": [
    "## Logistic Regression"
   ]
  },
  {
   "cell_type": "code",
   "execution_count": 23,
   "id": "69cf0cbd",
   "metadata": {
    "execution": {
     "iopub.execute_input": "2025-10-22T07:05:29.332229Z",
     "iopub.status.busy": "2025-10-22T07:05:29.331914Z",
     "iopub.status.idle": "2025-10-22T07:05:35.834128Z",
     "shell.execute_reply": "2025-10-22T07:05:35.833160Z"
    },
    "papermill": {
     "duration": 6.513581,
     "end_time": "2025-10-22T07:05:35.836091",
     "exception": false,
     "start_time": "2025-10-22T07:05:29.322510",
     "status": "completed"
    },
    "tags": []
   },
   "outputs": [
    {
     "data": {
      "text/html": [
       "<style>#sk-container-id-1 {color: black;background-color: white;}#sk-container-id-1 pre{padding: 0;}#sk-container-id-1 div.sk-toggleable {background-color: white;}#sk-container-id-1 label.sk-toggleable__label {cursor: pointer;display: block;width: 100%;margin-bottom: 0;padding: 0.3em;box-sizing: border-box;text-align: center;}#sk-container-id-1 label.sk-toggleable__label-arrow:before {content: \"▸\";float: left;margin-right: 0.25em;color: #696969;}#sk-container-id-1 label.sk-toggleable__label-arrow:hover:before {color: black;}#sk-container-id-1 div.sk-estimator:hover label.sk-toggleable__label-arrow:before {color: black;}#sk-container-id-1 div.sk-toggleable__content {max-height: 0;max-width: 0;overflow: hidden;text-align: left;background-color: #f0f8ff;}#sk-container-id-1 div.sk-toggleable__content pre {margin: 0.2em;color: black;border-radius: 0.25em;background-color: #f0f8ff;}#sk-container-id-1 input.sk-toggleable__control:checked~div.sk-toggleable__content {max-height: 200px;max-width: 100%;overflow: auto;}#sk-container-id-1 input.sk-toggleable__control:checked~label.sk-toggleable__label-arrow:before {content: \"▾\";}#sk-container-id-1 div.sk-estimator input.sk-toggleable__control:checked~label.sk-toggleable__label {background-color: #d4ebff;}#sk-container-id-1 div.sk-label input.sk-toggleable__control:checked~label.sk-toggleable__label {background-color: #d4ebff;}#sk-container-id-1 input.sk-hidden--visually {border: 0;clip: rect(1px 1px 1px 1px);clip: rect(1px, 1px, 1px, 1px);height: 1px;margin: -1px;overflow: hidden;padding: 0;position: absolute;width: 1px;}#sk-container-id-1 div.sk-estimator {font-family: monospace;background-color: #f0f8ff;border: 1px dotted black;border-radius: 0.25em;box-sizing: border-box;margin-bottom: 0.5em;}#sk-container-id-1 div.sk-estimator:hover {background-color: #d4ebff;}#sk-container-id-1 div.sk-parallel-item::after {content: \"\";width: 100%;border-bottom: 1px solid gray;flex-grow: 1;}#sk-container-id-1 div.sk-label:hover label.sk-toggleable__label {background-color: #d4ebff;}#sk-container-id-1 div.sk-serial::before {content: \"\";position: absolute;border-left: 1px solid gray;box-sizing: border-box;top: 0;bottom: 0;left: 50%;z-index: 0;}#sk-container-id-1 div.sk-serial {display: flex;flex-direction: column;align-items: center;background-color: white;padding-right: 0.2em;padding-left: 0.2em;position: relative;}#sk-container-id-1 div.sk-item {position: relative;z-index: 1;}#sk-container-id-1 div.sk-parallel {display: flex;align-items: stretch;justify-content: center;background-color: white;position: relative;}#sk-container-id-1 div.sk-item::before, #sk-container-id-1 div.sk-parallel-item::before {content: \"\";position: absolute;border-left: 1px solid gray;box-sizing: border-box;top: 0;bottom: 0;left: 50%;z-index: -1;}#sk-container-id-1 div.sk-parallel-item {display: flex;flex-direction: column;z-index: 1;position: relative;background-color: white;}#sk-container-id-1 div.sk-parallel-item:first-child::after {align-self: flex-end;width: 50%;}#sk-container-id-1 div.sk-parallel-item:last-child::after {align-self: flex-start;width: 50%;}#sk-container-id-1 div.sk-parallel-item:only-child::after {width: 0;}#sk-container-id-1 div.sk-dashed-wrapped {border: 1px dashed gray;margin: 0 0.4em 0.5em 0.4em;box-sizing: border-box;padding-bottom: 0.4em;background-color: white;}#sk-container-id-1 div.sk-label label {font-family: monospace;font-weight: bold;display: inline-block;line-height: 1.2em;}#sk-container-id-1 div.sk-label-container {text-align: center;}#sk-container-id-1 div.sk-container {/* jupyter's `normalize.less` sets `[hidden] { display: none; }` but bootstrap.min.css set `[hidden] { display: none !important; }` so we also need the `!important` here to be able to override the default hidden behavior on the sphinx rendered scikit-learn.org. See: https://github.com/scikit-learn/scikit-learn/issues/21755 */display: inline-block !important;position: relative;}#sk-container-id-1 div.sk-text-repr-fallback {display: none;}</style><div id=\"sk-container-id-1\" class=\"sk-top-container\"><div class=\"sk-text-repr-fallback\"><pre>GridSearchCV(cv=StratifiedKFold(n_splits=15, random_state=2, shuffle=True),\n",
       "             estimator=LogisticRegression(max_iter=2000, random_state=2),\n",
       "             param_grid={&#x27;C&#x27;: [0.01, 0.1, 1], &#x27;penalty&#x27;: [&#x27;l1&#x27;],\n",
       "                         &#x27;solver&#x27;: [&#x27;saga&#x27;]},\n",
       "             scoring=&#x27;accuracy&#x27;)</pre><b>In a Jupyter environment, please rerun this cell to show the HTML representation or trust the notebook. <br />On GitHub, the HTML representation is unable to render, please try loading this page with nbviewer.org.</b></div><div class=\"sk-container\" hidden><div class=\"sk-item sk-dashed-wrapped\"><div class=\"sk-label-container\"><div class=\"sk-label sk-toggleable\"><input class=\"sk-toggleable__control sk-hidden--visually\" id=\"sk-estimator-id-1\" type=\"checkbox\" ><label for=\"sk-estimator-id-1\" class=\"sk-toggleable__label sk-toggleable__label-arrow\">GridSearchCV</label><div class=\"sk-toggleable__content\"><pre>GridSearchCV(cv=StratifiedKFold(n_splits=15, random_state=2, shuffle=True),\n",
       "             estimator=LogisticRegression(max_iter=2000, random_state=2),\n",
       "             param_grid={&#x27;C&#x27;: [0.01, 0.1, 1], &#x27;penalty&#x27;: [&#x27;l1&#x27;],\n",
       "                         &#x27;solver&#x27;: [&#x27;saga&#x27;]},\n",
       "             scoring=&#x27;accuracy&#x27;)</pre></div></div></div><div class=\"sk-parallel\"><div class=\"sk-parallel-item\"><div class=\"sk-item\"><div class=\"sk-label-container\"><div class=\"sk-label sk-toggleable\"><input class=\"sk-toggleable__control sk-hidden--visually\" id=\"sk-estimator-id-2\" type=\"checkbox\" ><label for=\"sk-estimator-id-2\" class=\"sk-toggleable__label sk-toggleable__label-arrow\">estimator: LogisticRegression</label><div class=\"sk-toggleable__content\"><pre>LogisticRegression(max_iter=2000, random_state=2)</pre></div></div></div><div class=\"sk-serial\"><div class=\"sk-item\"><div class=\"sk-estimator sk-toggleable\"><input class=\"sk-toggleable__control sk-hidden--visually\" id=\"sk-estimator-id-3\" type=\"checkbox\" ><label for=\"sk-estimator-id-3\" class=\"sk-toggleable__label sk-toggleable__label-arrow\">LogisticRegression</label><div class=\"sk-toggleable__content\"><pre>LogisticRegression(max_iter=2000, random_state=2)</pre></div></div></div></div></div></div></div></div></div></div>"
      ],
      "text/plain": [
       "GridSearchCV(cv=StratifiedKFold(n_splits=15, random_state=2, shuffle=True),\n",
       "             estimator=LogisticRegression(max_iter=2000, random_state=2),\n",
       "             param_grid={'C': [0.01, 0.1, 1], 'penalty': ['l1'],\n",
       "                         'solver': ['saga']},\n",
       "             scoring='accuracy')"
      ]
     },
     "execution_count": 23,
     "metadata": {},
     "output_type": "execute_result"
    }
   ],
   "source": [
    "parameters ={\"C\":[0.01,0.1,1],'penalty':['l1'], 'solver':['saga']}# l1 lasso l2 ridge\n",
    "lr=LogisticRegression(max_iter=2000, random_state=2)\n",
    "\n",
    "logreg_cv = GridSearchCV(lr, param_grid=parameters, cv=cv, scoring='accuracy')\n",
    "logreg_cv.fit(X_train, y_train)\n"
   ]
  },
  {
   "cell_type": "code",
   "execution_count": 24,
   "id": "ca7ed562",
   "metadata": {
    "execution": {
     "iopub.execute_input": "2025-10-22T07:05:35.855512Z",
     "iopub.status.busy": "2025-10-22T07:05:35.855168Z",
     "iopub.status.idle": "2025-10-22T07:05:35.860132Z",
     "shell.execute_reply": "2025-10-22T07:05:35.859133Z"
    },
    "papermill": {
     "duration": 0.017022,
     "end_time": "2025-10-22T07:05:35.861811",
     "exception": false,
     "start_time": "2025-10-22T07:05:35.844789",
     "status": "completed"
    },
    "tags": []
   },
   "outputs": [
    {
     "name": "stdout",
     "output_type": "stream",
     "text": [
      "tuned hpyerparameters :(best parameters)  {'C': 0.1, 'penalty': 'l1', 'solver': 'saga'}\n",
      "accuracy : 0.967752560377694\n"
     ]
    }
   ],
   "source": [
    "print(\"tuned hpyerparameters :(best parameters) \",logreg_cv.best_params_)\n",
    "print(\"accuracy :\", logreg_cv.best_score_)"
   ]
  },
  {
   "cell_type": "code",
   "execution_count": 25,
   "id": "b7e55350",
   "metadata": {
    "execution": {
     "iopub.execute_input": "2025-10-22T07:05:35.882022Z",
     "iopub.status.busy": "2025-10-22T07:05:35.881407Z",
     "iopub.status.idle": "2025-10-22T07:05:35.892622Z",
     "shell.execute_reply": "2025-10-22T07:05:35.891775Z"
    },
    "papermill": {
     "duration": 0.02312,
     "end_time": "2025-10-22T07:05:35.894173",
     "exception": false,
     "start_time": "2025-10-22T07:05:35.871053",
     "status": "completed"
    },
    "tags": []
   },
   "outputs": [
    {
     "name": "stdout",
     "output_type": "stream",
     "text": [
      "0.9691211401425178\n"
     ]
    }
   ],
   "source": [
    "accuracy_lr = logreg_cv.score(X_valid, y_valid)\n",
    "print(accuracy_lr)"
   ]
  },
  {
   "cell_type": "code",
   "execution_count": 26,
   "id": "c7391a2f",
   "metadata": {
    "execution": {
     "iopub.execute_input": "2025-10-22T07:05:35.912884Z",
     "iopub.status.busy": "2025-10-22T07:05:35.912588Z",
     "iopub.status.idle": "2025-10-22T07:05:36.106582Z",
     "shell.execute_reply": "2025-10-22T07:05:36.105608Z"
    },
    "papermill": {
     "duration": 0.205186,
     "end_time": "2025-10-22T07:05:36.108138",
     "exception": false,
     "start_time": "2025-10-22T07:05:35.902952",
     "status": "completed"
    },
    "tags": []
   },
   "outputs": [
    {
     "data": {
      "image/png": "[encoded data removed]",
      "text/plain": [
       "<Figure size 1000x600 with 2 Axes>"
      ]
     },
     "metadata": {},
     "output_type": "display_data"
    }
   ],
   "source": [
    "yhat = logreg_cv.predict(X_valid)\n",
    "plot_confusion_matrix(y_valid, yhat)"
   ]
  },
  {
   "cell_type": "markdown",
   "id": "f67460a6",
   "metadata": {
    "papermill": {
     "duration": 0.009072,
     "end_time": "2025-10-22T07:05:36.127662",
     "exception": false,
     "start_time": "2025-10-22T07:05:36.118590",
     "status": "completed"
    },
    "tags": []
   },
   "source": [
    "Examining the confusion matrix, we see that logistic regression can distinguish between the different classes.  We see that the problem is false positives.\n",
    "\n",
    "Overview:\n",
    "\n",
    "\n",
    "**True Postive - 3336 (True label is Extrovert, Predicted label is also extrovert)False Postive - 80 (True label is Introvert, Predicted label is introvert)**\n"
   ]
  },
  {
   "cell_type": "code",
   "execution_count": 27,
   "id": "1b41bb3e",
   "metadata": {
    "execution": {
     "iopub.execute_input": "2025-10-22T07:05:36.147122Z",
     "iopub.status.busy": "2025-10-22T07:05:36.146838Z",
     "iopub.status.idle": "2025-10-22T07:05:36.152136Z",
     "shell.execute_reply": "2025-10-22T07:05:36.151201Z"
    },
    "papermill": {
     "duration": 0.017248,
     "end_time": "2025-10-22T07:05:36.153801",
     "exception": false,
     "start_time": "2025-10-22T07:05:36.136553",
     "status": "completed"
    },
    "tags": []
   },
   "outputs": [],
   "source": [
    "parameters = {'criterion': ['gini', 'entropy'],\n",
    "     'splitter': ['best', 'random'],\n",
    "     'max_depth': [2*n for n in range(1,10)],\n",
    "     'min_samples_leaf': [1, 2, 3, 4, 5],\n",
    "     'min_samples_split': [2, 3, 4, 5, 6]}\n",
    "\n",
    "tree = DecisionTreeClassifier(random_state=2)"
   ]
  },
  {
   "cell_type": "code",
   "execution_count": 28,
   "id": "b7b515c7",
   "metadata": {
    "execution": {
     "iopub.execute_input": "2025-10-22T07:05:36.173027Z",
     "iopub.status.busy": "2025-10-22T07:05:36.172764Z",
     "iopub.status.idle": "2025-10-22T07:09:24.367770Z",
     "shell.execute_reply": "2025-10-22T07:09:24.366698Z"
    },
    "papermill": {
     "duration": 228.215819,
     "end_time": "2025-10-22T07:09:24.378701",
     "exception": false,
     "start_time": "2025-10-22T07:05:36.162882",
     "status": "completed"
    },
    "tags": []
   },
   "outputs": [
    {
     "data": {
      "text/html": [
       "<style>#sk-container-id-2 {color: black;background-color: white;}#sk-container-id-2 pre{padding: 0;}#sk-container-id-2 div.sk-toggleable {background-color: white;}#sk-container-id-2 label.sk-toggleable__label {cursor: pointer;display: block;width: 100%;margin-bottom: 0;padding: 0.3em;box-sizing: border-box;text-align: center;}#sk-container-id-2 label.sk-toggleable__label-arrow:before {content: \"▸\";float: left;margin-right: 0.25em;color: #696969;}#sk-container-id-2 label.sk-toggleable__label-arrow:hover:before {color: black;}#sk-container-id-2 div.sk-estimator:hover label.sk-toggleable__label-arrow:before {color: black;}#sk-container-id-2 div.sk-toggleable__content {max-height: 0;max-width: 0;overflow: hidden;text-align: left;background-color: #f0f8ff;}#sk-container-id-2 div.sk-toggleable__content pre {margin: 0.2em;color: black;border-radius: 0.25em;background-color: #f0f8ff;}#sk-container-id-2 input.sk-toggleable__control:checked~div.sk-toggleable__content {max-height: 200px;max-width: 100%;overflow: auto;}#sk-container-id-2 input.sk-toggleable__control:checked~label.sk-toggleable__label-arrow:before {content: \"▾\";}#sk-container-id-2 div.sk-estimator input.sk-toggleable__control:checked~label.sk-toggleable__label {background-color: #d4ebff;}#sk-container-id-2 div.sk-label input.sk-toggleable__control:checked~label.sk-toggleable__label {background-color: #d4ebff;}#sk-container-id-2 input.sk-hidden--visually {border: 0;clip: rect(1px 1px 1px 1px);clip: rect(1px, 1px, 1px, 1px);height: 1px;margin: -1px;overflow: hidden;padding: 0;position: absolute;width: 1px;}#sk-container-id-2 div.sk-estimator {font-family: monospace;background-color: #f0f8ff;border: 1px dotted black;border-radius: 0.25em;box-sizing: border-box;margin-bottom: 0.5em;}#sk-container-id-2 div.sk-estimator:hover {background-color: #d4ebff;}#sk-container-id-2 div.sk-parallel-item::after {content: \"\";width: 100%;border-bottom: 1px solid gray;flex-grow: 1;}#sk-container-id-2 div.sk-label:hover label.sk-toggleable__label {background-color: #d4ebff;}#sk-container-id-2 div.sk-serial::before {content: \"\";position: absolute;border-left: 1px solid gray;box-sizing: border-box;top: 0;bottom: 0;left: 50%;z-index: 0;}#sk-container-id-2 div.sk-serial {display: flex;flex-direction: column;align-items: center;background-color: white;padding-right: 0.2em;padding-left: 0.2em;position: relative;}#sk-container-id-2 div.sk-item {position: relative;z-index: 1;}#sk-container-id-2 div.sk-parallel {display: flex;align-items: stretch;justify-content: center;background-color: white;position: relative;}#sk-container-id-2 div.sk-item::before, #sk-container-id-2 div.sk-parallel-item::before {content: \"\";position: absolute;border-left: 1px solid gray;box-sizing: border-box;top: 0;bottom: 0;left: 50%;z-index: -1;}#sk-container-id-2 div.sk-parallel-item {display: flex;flex-direction: column;z-index: 1;position: relative;background-color: white;}#sk-container-id-2 div.sk-parallel-item:first-child::after {align-self: flex-end;width: 50%;}#sk-container-id-2 div.sk-parallel-item:last-child::after {align-self: flex-start;width: 50%;}#sk-container-id-2 div.sk-parallel-item:only-child::after {width: 0;}#sk-container-id-2 div.sk-dashed-wrapped {border: 1px dashed gray;margin: 0 0.4em 0.5em 0.4em;box-sizing: border-box;padding-bottom: 0.4em;background-color: white;}#sk-container-id-2 div.sk-label label {font-family: monospace;font-weight: bold;display: inline-block;line-height: 1.2em;}#sk-container-id-2 div.sk-label-container {text-align: center;}#sk-container-id-2 div.sk-container {/* jupyter's `normalize.less` sets `[hidden] { display: none; }` but bootstrap.min.css set `[hidden] { display: none !important; }` so we also need the `!important` here to be able to override the default hidden behavior on the sphinx rendered scikit-learn.org. See: https://github.com/scikit-learn/scikit-learn/issues/21755 */display: inline-block !important;position: relative;}#sk-container-id-2 div.sk-text-repr-fallback {display: none;}</style><div id=\"sk-container-id-2\" class=\"sk-top-container\"><div class=\"sk-text-repr-fallback\"><pre>GridSearchCV(cv=StratifiedKFold(n_splits=15, random_state=2, shuffle=True),\n",
       "             estimator=DecisionTreeClassifier(random_state=2),\n",
       "             param_grid={&#x27;criterion&#x27;: [&#x27;gini&#x27;, &#x27;entropy&#x27;],\n",
       "                         &#x27;max_depth&#x27;: [2, 4, 6, 8, 10, 12, 14, 16, 18],\n",
       "                         &#x27;min_samples_leaf&#x27;: [1, 2, 3, 4, 5],\n",
       "                         &#x27;min_samples_split&#x27;: [2, 3, 4, 5, 6],\n",
       "                         &#x27;splitter&#x27;: [&#x27;best&#x27;, &#x27;random&#x27;]},\n",
       "             scoring=&#x27;accuracy&#x27;)</pre><b>In a Jupyter environment, please rerun this cell to show the HTML representation or trust the notebook. <br />On GitHub, the HTML representation is unable to render, please try loading this page with nbviewer.org.</b></div><div class=\"sk-container\" hidden><div class=\"sk-item sk-dashed-wrapped\"><div class=\"sk-label-container\"><div class=\"sk-label sk-toggleable\"><input class=\"sk-toggleable__control sk-hidden--visually\" id=\"sk-estimator-id-4\" type=\"checkbox\" ><label for=\"sk-estimator-id-4\" class=\"sk-toggleable__label sk-toggleable__label-arrow\">GridSearchCV</label><div class=\"sk-toggleable__content\"><pre>GridSearchCV(cv=StratifiedKFold(n_splits=15, random_state=2, shuffle=True),\n",
       "             estimator=DecisionTreeClassifier(random_state=2),\n",
       "             param_grid={&#x27;criterion&#x27;: [&#x27;gini&#x27;, &#x27;entropy&#x27;],\n",
       "                         &#x27;max_depth&#x27;: [2, 4, 6, 8, 10, 12, 14, 16, 18],\n",
       "                         &#x27;min_samples_leaf&#x27;: [1, 2, 3, 4, 5],\n",
       "                         &#x27;min_samples_split&#x27;: [2, 3, 4, 5, 6],\n",
       "                         &#x27;splitter&#x27;: [&#x27;best&#x27;, &#x27;random&#x27;]},\n",
       "             scoring=&#x27;accuracy&#x27;)</pre></div></div></div><div class=\"sk-parallel\"><div class=\"sk-parallel-item\"><div class=\"sk-item\"><div class=\"sk-label-container\"><div class=\"sk-label sk-toggleable\"><input class=\"sk-toggleable__control sk-hidden--visually\" id=\"sk-estimator-id-5\" type=\"checkbox\" ><label for=\"sk-estimator-id-5\" class=\"sk-toggleable__label sk-toggleable__label-arrow\">estimator: DecisionTreeClassifier</label><div class=\"sk-toggleable__content\"><pre>DecisionTreeClassifier(random_state=2)</pre></div></div></div><div class=\"sk-serial\"><div class=\"sk-item\"><div class=\"sk-estimator sk-toggleable\"><input class=\"sk-toggleable__control sk-hidden--visually\" id=\"sk-estimator-id-6\" type=\"checkbox\" ><label for=\"sk-estimator-id-6\" class=\"sk-toggleable__label sk-toggleable__label-arrow\">DecisionTreeClassifier</label><div class=\"sk-toggleable__content\"><pre>DecisionTreeClassifier(random_state=2)</pre></div></div></div></div></div></div></div></div></div></div>"
      ],
      "text/plain": [
       "GridSearchCV(cv=StratifiedKFold(n_splits=15, random_state=2, shuffle=True),\n",
       "             estimator=DecisionTreeClassifier(random_state=2),\n",
       "             param_grid={'criterion': ['gini', 'entropy'],\n",
       "                         'max_depth': [2, 4, 6, 8, 10, 12, 14, 16, 18],\n",
       "                         'min_samples_leaf': [1, 2, 3, 4, 5],\n",
       "                         'min_samples_split': [2, 3, 4, 5, 6],\n",
       "                         'splitter': ['best', 'random']},\n",
       "             scoring='accuracy')"
      ]
     },
     "execution_count": 28,
     "metadata": {},
     "output_type": "execute_result"
    }
   ],
   "source": [
    "tree_cv = GridSearchCV(tree, param_grid=parameters, cv=cv, scoring='accuracy')\n",
    "tree_cv.fit(X_train, y_train)"
   ]
  },
  {
   "cell_type": "code",
   "execution_count": 29,
   "id": "52d1f2a5",
   "metadata": {
    "execution": {
     "iopub.execute_input": "2025-10-22T07:09:24.398369Z",
     "iopub.status.busy": "2025-10-22T07:09:24.398021Z",
     "iopub.status.idle": "2025-10-22T07:09:24.402905Z",
     "shell.execute_reply": "2025-10-22T07:09:24.401860Z"
    },
    "papermill": {
     "duration": 0.016214,
     "end_time": "2025-10-22T07:09:24.404130",
     "exception": false,
     "start_time": "2025-10-22T07:09:24.387916",
     "status": "completed"
    },
    "tags": []
   },
   "outputs": [
    {
     "name": "stdout",
     "output_type": "stream",
     "text": [
      "tuned hpyerparameters :(best parameters)  {'criterion': 'entropy', 'max_depth': 4, 'min_samples_leaf': 1, 'min_samples_split': 2, 'splitter': 'best'}\n",
      "accuracy : 0.9681842151656993\n"
     ]
    }
   ],
   "source": [
    "print(\"tuned hpyerparameters :(best parameters) \",tree_cv.best_params_)\n",
    "print(\"accuracy :\",tree_cv.best_score_)"
   ]
  },
  {
   "cell_type": "code",
   "execution_count": 30,
   "id": "6fc68093",
   "metadata": {
    "execution": {
     "iopub.execute_input": "2025-10-22T07:09:24.423518Z",
     "iopub.status.busy": "2025-10-22T07:09:24.423223Z",
     "iopub.status.idle": "2025-10-22T07:09:24.431422Z",
     "shell.execute_reply": "2025-10-22T07:09:24.430504Z"
    },
    "papermill": {
     "duration": 0.019556,
     "end_time": "2025-10-22T07:09:24.432845",
     "exception": false,
     "start_time": "2025-10-22T07:09:24.413289",
     "status": "completed"
    },
    "tags": []
   },
   "outputs": [
    {
     "name": "stdout",
     "output_type": "stream",
     "text": [
      "0.9695530123083568\n"
     ]
    }
   ],
   "source": [
    "accuracy_tree = tree_cv.score(X_valid, y_valid)\n",
    "print(accuracy_tree)"
   ]
  },
  {
   "cell_type": "code",
   "execution_count": 31,
   "id": "ec4aa583",
   "metadata": {
    "execution": {
     "iopub.execute_input": "2025-10-22T07:09:24.453354Z",
     "iopub.status.busy": "2025-10-22T07:09:24.452984Z",
     "iopub.status.idle": "2025-10-22T07:09:24.639097Z",
     "shell.execute_reply": "2025-10-22T07:09:24.638144Z"
    },
    "papermill": {
     "duration": 0.198407,
     "end_time": "2025-10-22T07:09:24.640468",
     "exception": false,
     "start_time": "2025-10-22T07:09:24.442061",
     "status": "completed"
    },
    "tags": []
   },
   "outputs": [
    {
     "data": {
      "image/png": "[encoded data removed]",
      "text/plain": [
       "<Figure size 1000x600 with 2 Axes>"
      ]
     },
     "metadata": {},
     "output_type": "display_data"
    }
   ],
   "source": [
    "yhat_tree = tree_cv.predict(X_valid)\n",
    "plot_confusion_matrix(y_valid, yhat_tree)"
   ]
  },
  {
   "cell_type": "code",
   "execution_count": 32,
   "id": "54778320",
   "metadata": {
    "execution": {
     "iopub.execute_input": "2025-10-22T07:09:24.661693Z",
     "iopub.status.busy": "2025-10-22T07:09:24.661363Z",
     "iopub.status.idle": "2025-10-22T07:09:24.666179Z",
     "shell.execute_reply": "2025-10-22T07:09:24.665295Z"
    },
    "papermill": {
     "duration": 0.016981,
     "end_time": "2025-10-22T07:09:24.667605",
     "exception": false,
     "start_time": "2025-10-22T07:09:24.650624",
     "status": "completed"
    },
    "tags": []
   },
   "outputs": [],
   "source": [
    "parameters = {'n_neighbors': [1, 2, 3, 4, 5, 6, 7, 8, 9, 10],\n",
    "              'algorithm': ['auto', 'ball_tree', 'kd_tree', 'brute'],\n",
    "              'p': [1, 2]}\n",
    "\n",
    "KNN = KNeighborsClassifier()"
   ]
  },
  {
   "cell_type": "code",
   "execution_count": 33,
   "id": "83522b6b",
   "metadata": {
    "execution": {
     "iopub.execute_input": "2025-10-22T07:09:24.689123Z",
     "iopub.status.busy": "2025-10-22T07:09:24.688828Z",
     "iopub.status.idle": "2025-10-22T07:11:15.216109Z",
     "shell.execute_reply": "2025-10-22T07:11:15.215213Z"
    },
    "papermill": {
     "duration": 110.549225,
     "end_time": "2025-10-22T07:11:15.227021",
     "exception": false,
     "start_time": "2025-10-22T07:09:24.677796",
     "status": "completed"
    },
    "tags": []
   },
   "outputs": [
    {
     "data": {
      "text/html": [
       "<style>#sk-container-id-3 {color: black;background-color: white;}#sk-container-id-3 pre{padding: 0;}#sk-container-id-3 div.sk-toggleable {background-color: white;}#sk-container-id-3 label.sk-toggleable__label {cursor: pointer;display: block;width: 100%;margin-bottom: 0;padding: 0.3em;box-sizing: border-box;text-align: center;}#sk-container-id-3 label.sk-toggleable__label-arrow:before {content: \"▸\";float: left;margin-right: 0.25em;color: #696969;}#sk-container-id-3 label.sk-toggleable__label-arrow:hover:before {color: black;}#sk-container-id-3 div.sk-estimator:hover label.sk-toggleable__label-arrow:before {color: black;}#sk-container-id-3 div.sk-toggleable__content {max-height: 0;max-width: 0;overflow: hidden;text-align: left;background-color: #f0f8ff;}#sk-container-id-3 div.sk-toggleable__content pre {margin: 0.2em;color: black;border-radius: 0.25em;background-color: #f0f8ff;}#sk-container-id-3 input.sk-toggleable__control:checked~div.sk-toggleable__content {max-height: 200px;max-width: 100%;overflow: auto;}#sk-container-id-3 input.sk-toggleable__control:checked~label.sk-toggleable__label-arrow:before {content: \"▾\";}#sk-container-id-3 div.sk-estimator input.sk-toggleable__control:checked~label.sk-toggleable__label {background-color: #d4ebff;}#sk-container-id-3 div.sk-label input.sk-toggleable__control:checked~label.sk-toggleable__label {background-color: #d4ebff;}#sk-container-id-3 input.sk-hidden--visually {border: 0;clip: rect(1px 1px 1px 1px);clip: rect(1px, 1px, 1px, 1px);height: 1px;margin: -1px;overflow: hidden;padding: 0;position: absolute;width: 1px;}#sk-container-id-3 div.sk-estimator {font-family: monospace;background-color: #f0f8ff;border: 1px dotted black;border-radius: 0.25em;box-sizing: border-box;margin-bottom: 0.5em;}#sk-container-id-3 div.sk-estimator:hover {background-color: #d4ebff;}#sk-container-id-3 div.sk-parallel-item::after {content: \"\";width: 100%;border-bottom: 1px solid gray;flex-grow: 1;}#sk-container-id-3 div.sk-label:hover label.sk-toggleable__label {background-color: #d4ebff;}#sk-container-id-3 div.sk-serial::before {content: \"\";position: absolute;border-left: 1px solid gray;box-sizing: border-box;top: 0;bottom: 0;left: 50%;z-index: 0;}#sk-container-id-3 div.sk-serial {display: flex;flex-direction: column;align-items: center;background-color: white;padding-right: 0.2em;padding-left: 0.2em;position: relative;}#sk-container-id-3 div.sk-item {position: relative;z-index: 1;}#sk-container-id-3 div.sk-parallel {display: flex;align-items: stretch;justify-content: center;background-color: white;position: relative;}#sk-container-id-3 div.sk-item::before, #sk-container-id-3 div.sk-parallel-item::before {content: \"\";position: absolute;border-left: 1px solid gray;box-sizing: border-box;top: 0;bottom: 0;left: 50%;z-index: -1;}#sk-container-id-3 div.sk-parallel-item {display: flex;flex-direction: column;z-index: 1;position: relative;background-color: white;}#sk-container-id-3 div.sk-parallel-item:first-child::after {align-self: flex-end;width: 50%;}#sk-container-id-3 div.sk-parallel-item:last-child::after {align-self: flex-start;width: 50%;}#sk-container-id-3 div.sk-parallel-item:only-child::after {width: 0;}#sk-container-id-3 div.sk-dashed-wrapped {border: 1px dashed gray;margin: 0 0.4em 0.5em 0.4em;box-sizing: border-box;padding-bottom: 0.4em;background-color: white;}#sk-container-id-3 div.sk-label label {font-family: monospace;font-weight: bold;display: inline-block;line-height: 1.2em;}#sk-container-id-3 div.sk-label-container {text-align: center;}#sk-container-id-3 div.sk-container {/* jupyter's `normalize.less` sets `[hidden] { display: none; }` but bootstrap.min.css set `[hidden] { display: none !important; }` so we also need the `!important` here to be able to override the default hidden behavior on the sphinx rendered scikit-learn.org. See: https://github.com/scikit-learn/scikit-learn/issues/21755 */display: inline-block !important;position: relative;}#sk-container-id-3 div.sk-text-repr-fallback {display: none;}</style><div id=\"sk-container-id-3\" class=\"sk-top-container\"><div class=\"sk-text-repr-fallback\"><pre>GridSearchCV(cv=StratifiedKFold(n_splits=15, random_state=2, shuffle=True),\n",
       "             estimator=KNeighborsClassifier(),\n",
       "             param_grid={&#x27;algorithm&#x27;: [&#x27;auto&#x27;, &#x27;ball_tree&#x27;, &#x27;kd_tree&#x27;, &#x27;brute&#x27;],\n",
       "                         &#x27;n_neighbors&#x27;: [1, 2, 3, 4, 5, 6, 7, 8, 9, 10],\n",
       "                         &#x27;p&#x27;: [1, 2]},\n",
       "             scoring=&#x27;accuracy&#x27;)</pre><b>In a Jupyter environment, please rerun this cell to show the HTML representation or trust the notebook. <br />On GitHub, the HTML representation is unable to render, please try loading this page with nbviewer.org.</b></div><div class=\"sk-container\" hidden><div class=\"sk-item sk-dashed-wrapped\"><div class=\"sk-label-container\"><div class=\"sk-label sk-toggleable\"><input class=\"sk-toggleable__control sk-hidden--visually\" id=\"sk-estimator-id-7\" type=\"checkbox\" ><label for=\"sk-estimator-id-7\" class=\"sk-toggleable__label sk-toggleable__label-arrow\">GridSearchCV</label><div class=\"sk-toggleable__content\"><pre>GridSearchCV(cv=StratifiedKFold(n_splits=15, random_state=2, shuffle=True),\n",
       "             estimator=KNeighborsClassifier(),\n",
       "             param_grid={&#x27;algorithm&#x27;: [&#x27;auto&#x27;, &#x27;ball_tree&#x27;, &#x27;kd_tree&#x27;, &#x27;brute&#x27;],\n",
       "                         &#x27;n_neighbors&#x27;: [1, 2, 3, 4, 5, 6, 7, 8, 9, 10],\n",
       "                         &#x27;p&#x27;: [1, 2]},\n",
       "             scoring=&#x27;accuracy&#x27;)</pre></div></div></div><div class=\"sk-parallel\"><div class=\"sk-parallel-item\"><div class=\"sk-item\"><div class=\"sk-label-container\"><div class=\"sk-label sk-toggleable\"><input class=\"sk-toggleable__control sk-hidden--visually\" id=\"sk-estimator-id-8\" type=\"checkbox\" ><label for=\"sk-estimator-id-8\" class=\"sk-toggleable__label sk-toggleable__label-arrow\">estimator: KNeighborsClassifier</label><div class=\"sk-toggleable__content\"><pre>KNeighborsClassifier()</pre></div></div></div><div class=\"sk-serial\"><div class=\"sk-item\"><div class=\"sk-estimator sk-toggleable\"><input class=\"sk-toggleable__control sk-hidden--visually\" id=\"sk-estimator-id-9\" type=\"checkbox\" ><label for=\"sk-estimator-id-9\" class=\"sk-toggleable__label sk-toggleable__label-arrow\">KNeighborsClassifier</label><div class=\"sk-toggleable__content\"><pre>KNeighborsClassifier()</pre></div></div></div></div></div></div></div></div></div></div>"
      ],
      "text/plain": [
       "GridSearchCV(cv=StratifiedKFold(n_splits=15, random_state=2, shuffle=True),\n",
       "             estimator=KNeighborsClassifier(),\n",
       "             param_grid={'algorithm': ['auto', 'ball_tree', 'kd_tree', 'brute'],\n",
       "                         'n_neighbors': [1, 2, 3, 4, 5, 6, 7, 8, 9, 10],\n",
       "                         'p': [1, 2]},\n",
       "             scoring='accuracy')"
      ]
     },
     "execution_count": 33,
     "metadata": {},
     "output_type": "execute_result"
    }
   ],
   "source": [
    "knn_cv = GridSearchCV(KNN, param_grid=parameters, cv=cv, scoring='accuracy')\n",
    "knn_cv.fit(X_train, y_train)"
   ]
  },
  {
   "cell_type": "code",
   "execution_count": 34,
   "id": "06e9c248",
   "metadata": {
    "execution": {
     "iopub.execute_input": "2025-10-22T07:11:15.247842Z",
     "iopub.status.busy": "2025-10-22T07:11:15.247532Z",
     "iopub.status.idle": "2025-10-22T07:11:15.252504Z",
     "shell.execute_reply": "2025-10-22T07:11:15.251556Z"
    },
    "papermill": {
     "duration": 0.017648,
     "end_time": "2025-10-22T07:11:15.254405",
     "exception": false,
     "start_time": "2025-10-22T07:11:15.236757",
     "status": "completed"
    },
    "tags": []
   },
   "outputs": [
    {
     "name": "stdout",
     "output_type": "stream",
     "text": [
      "tuned hpyerparameters :(best parameters)  {'algorithm': 'ball_tree', 'n_neighbors': 8, 'p': 1}\n",
      "Accuracy : 0.9682562094061601\n"
     ]
    }
   ],
   "source": [
    "print(\"tuned hpyerparameters :(best parameters) \", knn_cv.best_params_)\n",
    "print(\"Accuracy :\", knn_cv.best_score_)"
   ]
  },
  {
   "cell_type": "code",
   "execution_count": 35,
   "id": "edd21e3a",
   "metadata": {
    "execution": {
     "iopub.execute_input": "2025-10-22T07:11:15.275861Z",
     "iopub.status.busy": "2025-10-22T07:11:15.275563Z",
     "iopub.status.idle": "2025-10-22T07:11:15.776151Z",
     "shell.execute_reply": "2025-10-22T07:11:15.774975Z"
    },
    "papermill": {
     "duration": 0.513272,
     "end_time": "2025-10-22T07:11:15.777752",
     "exception": false,
     "start_time": "2025-10-22T07:11:15.264480",
     "status": "completed"
    },
    "tags": []
   },
   "outputs": [
    {
     "name": "stdout",
     "output_type": "stream",
     "text": [
      "Test set score: 0.970201\n"
     ]
    }
   ],
   "source": [
    "accuracy_knn = knn_cv.score(X_valid, y_valid)\n",
    "print(\"Test set score: {:.6f}\".format(accuracy_knn))"
   ]
  },
  {
   "cell_type": "code",
   "execution_count": 36,
   "id": "938a11c0",
   "metadata": {
    "execution": {
     "iopub.execute_input": "2025-10-22T07:11:15.800154Z",
     "iopub.status.busy": "2025-10-22T07:11:15.799841Z",
     "iopub.status.idle": "2025-10-22T07:11:16.469279Z",
     "shell.execute_reply": "2025-10-22T07:11:16.468376Z"
    },
    "papermill": {
     "duration": 0.682224,
     "end_time": "2025-10-22T07:11:16.470875",
     "exception": false,
     "start_time": "2025-10-22T07:11:15.788651",
     "status": "completed"
    },
    "tags": []
   },
   "outputs": [
    {
     "data": {
      "image/png": "[encoded data removed]",
      "text/plain": [
       "<Figure size 1000x600 with 2 Axes>"
      ]
     },
     "metadata": {},
     "output_type": "display_data"
    }
   ],
   "source": [
    "yhat_knn = knn_cv.predict(X_valid)\n",
    "plot_confusion_matrix(y_valid, yhat_knn)"
   ]
  },
  {
   "cell_type": "code",
   "execution_count": 37,
   "id": "edef8174",
   "metadata": {
    "execution": {
     "iopub.execute_input": "2025-10-22T07:11:16.493625Z",
     "iopub.status.busy": "2025-10-22T07:11:16.493153Z",
     "iopub.status.idle": "2025-10-22T07:11:16.681466Z",
     "shell.execute_reply": "2025-10-22T07:11:16.680390Z"
    },
    "papermill": {
     "duration": 0.201381,
     "end_time": "2025-10-22T07:11:16.682981",
     "exception": false,
     "start_time": "2025-10-22T07:11:16.481600",
     "status": "completed"
    },
    "tags": []
   },
   "outputs": [
    {
     "data": {
      "image/png": "[encoded data removed]",
      "text/plain": [
       "<Figure size 1000x600 with 1 Axes>"
      ]
     },
     "metadata": {},
     "output_type": "display_data"
    }
   ],
   "source": [
    "models_accuracy = {\n",
    "    'Logistic Regression': accuracy_lr,\n",
    "    'KNN': accuracy_knn,\n",
    "    'Decision Tree': accuracy_tree\n",
    "}\n",
    "\n",
    "plt.figure(figsize=(10, 6))\n",
    "models = list(models_accuracy.keys())\n",
    "accuracies = list(models_accuracy.values())\n",
    "\n",
    "# Create bars with colors\n",
    "bars = plt.bar(models, accuracies, color=[\"#1851e182\", '#6cad21', '#d62728'])\n",
    "\n",
    "# Add accuracy values on top of each bar\n",
    "for i, (model, acc) in enumerate(zip(models, accuracies)):\n",
    "    plt.text(i, acc + 0.01, f'{acc:.4f}', ha='center', va='bottom', fontsize=10)\n",
    "\n",
    "\n",
    "plt.xlabel('Classification Models', fontsize=12)\n",
    "plt.ylabel('Accuracy Score', fontsize=12)\n",
    "plt.title('Model Accuracy Comparison', fontsize=14, fontweight='bold')\n",
    "plt.ylim(0, 1.1) \n",
    "plt.tight_layout()\n",
    "\n",
    "plt.show()\n"
   ]
  },
  {
   "cell_type": "markdown",
   "id": "567e6710",
   "metadata": {
    "papermill": {
     "duration": 0.010907,
     "end_time": "2025-10-22T07:11:16.705181",
     "exception": false,
     "start_time": "2025-10-22T07:11:16.694274",
     "status": "completed"
    },
    "tags": []
   },
   "source": [
    "As we can see from the bar chart above, KNN is the best performing model on the test data."
   ]
  },
  {
   "cell_type": "code",
   "execution_count": 38,
   "id": "5b0a0a5d",
   "metadata": {
    "execution": {
     "iopub.execute_input": "2025-10-22T07:11:16.729603Z",
     "iopub.status.busy": "2025-10-22T07:11:16.729260Z",
     "iopub.status.idle": "2025-10-22T07:11:16.734468Z",
     "shell.execute_reply": "2025-10-22T07:11:16.733570Z"
    },
    "papermill": {
     "duration": 0.019325,
     "end_time": "2025-10-22T07:11:16.736010",
     "exception": false,
     "start_time": "2025-10-22T07:11:16.716685",
     "status": "completed"
    },
    "tags": []
   },
   "outputs": [],
   "source": [
    "X_test = test.copy()"
   ]
  },
  {
   "cell_type": "code",
   "execution_count": 39,
   "id": "d759da7c",
   "metadata": {
    "execution": {
     "iopub.execute_input": "2025-10-22T07:11:16.761035Z",
     "iopub.status.busy": "2025-10-22T07:11:16.760710Z",
     "iopub.status.idle": "2025-10-22T07:11:17.180962Z",
     "shell.execute_reply": "2025-10-22T07:11:17.179972Z"
    },
    "papermill": {
     "duration": 0.434888,
     "end_time": "2025-10-22T07:11:17.182640",
     "exception": false,
     "start_time": "2025-10-22T07:11:16.747752",
     "status": "completed"
    },
    "tags": []
   },
   "outputs": [],
   "source": [
    "knn_test = knn_cv.predict_proba(X_test)\n",
    "final_preds = np.argmax(knn_test, axis=1)\n",
    "final_preds = pd.Series(final_preds)"
   ]
  },
  {
   "cell_type": "code",
   "execution_count": 40,
   "id": "a75e68b2",
   "metadata": {
    "execution": {
     "iopub.execute_input": "2025-10-22T07:11:17.206547Z",
     "iopub.status.busy": "2025-10-22T07:11:17.206220Z",
     "iopub.status.idle": "2025-10-22T07:11:17.213456Z",
     "shell.execute_reply": "2025-10-22T07:11:17.212511Z"
    },
    "papermill": {
     "duration": 0.020865,
     "end_time": "2025-10-22T07:11:17.214914",
     "exception": false,
     "start_time": "2025-10-22T07:11:17.194049",
     "status": "completed"
    },
    "tags": []
   },
   "outputs": [],
   "source": [
    "knn_test = final_preds.map({1: 'Extrovert', 0: 'Introvert'})"
   ]
  },
  {
   "cell_type": "code",
   "execution_count": 41,
   "id": "8e05c978",
   "metadata": {
    "execution": {
     "iopub.execute_input": "2025-10-22T07:11:17.238965Z",
     "iopub.status.busy": "2025-10-22T07:11:17.238688Z",
     "iopub.status.idle": "2025-10-22T07:11:17.275715Z",
     "shell.execute_reply": "2025-10-22T07:11:17.274725Z"
    },
    "papermill": {
     "duration": 0.050647,
     "end_time": "2025-10-22T07:11:17.277102",
     "exception": false,
     "start_time": "2025-10-22T07:11:17.226455",
     "status": "completed"
    },
    "tags": []
   },
   "outputs": [
    {
     "name": "stdout",
     "output_type": "stream",
     "text": [
      "Submission file saved as submission.csv\n"
     ]
    },
    {
     "data": {
      "text/html": [
       "<div>\n",
       "<style scoped>\n",
       "    .dataframe tbody tr th:only-of-type {\n",
       "        vertical-align: middle;\n",
       "    }\n",
       "\n",
       "    .dataframe tbody tr th {\n",
       "        vertical-align: top;\n",
       "    }\n",
       "\n",
       "    .dataframe thead th {\n",
       "        text-align: right;\n",
       "    }\n",
       "</style>\n",
       "<table border=\"1\" class=\"dataframe\">\n",
       "  <thead>\n",
       "    <tr style=\"text-align: right;\">\n",
       "      <th></th>\n",
       "      <th>id</th>\n",
       "      <th>Personality</th>\n",
       "    </tr>\n",
       "  </thead>\n",
       "  <tbody>\n",
       "    <tr>\n",
       "      <th>0</th>\n",
       "      <td>18524</td>\n",
       "      <td>Extrovert</td>\n",
       "    </tr>\n",
       "    <tr>\n",
       "      <th>1</th>\n",
       "      <td>18525</td>\n",
       "      <td>Introvert</td>\n",
       "    </tr>\n",
       "    <tr>\n",
       "      <th>2</th>\n",
       "      <td>18526</td>\n",
       "      <td>Extrovert</td>\n",
       "    </tr>\n",
       "    <tr>\n",
       "      <th>3</th>\n",
       "      <td>18527</td>\n",
       "      <td>Extrovert</td>\n",
       "    </tr>\n",
       "    <tr>\n",
       "      <th>4</th>\n",
       "      <td>18528</td>\n",
       "      <td>Introvert</td>\n",
       "    </tr>\n",
       "  </tbody>\n",
       "</table>\n",
       "</div>"
      ],
      "text/plain": [
       "      id Personality\n",
       "0  18524   Extrovert\n",
       "1  18525   Introvert\n",
       "2  18526   Extrovert\n",
       "3  18527   Extrovert\n",
       "4  18528   Introvert"
      ]
     },
     "execution_count": 41,
     "metadata": {},
     "output_type": "execute_result"
    }
   ],
   "source": [
    "sub = pd.read_csv('/kaggle/input/playground-series-s5e7/sample_submission.csv')\n",
    "sub['Personality'] = knn_test\n",
    "sub.to_csv('submission.csv', index=False)\n",
    "print(\"Submission file saved as submission.csv\")\n",
    "sub.head()"
   ]
  }
 ],
 "metadata": {
  "kaggle": {
   "accelerator": "none",
   "dataSources": [
    {
     "databundleVersionId": 12738969,
     "sourceId": 91718,
     "sourceType": "competition"
    }
   ],
   "dockerImageVersionId": 31153,
   "isGpuEnabled": false,
   "isInternetEnabled": true,
   "language": "python",
   "sourceType": "notebook"
  },
  "kernelspec": {
   "display_name": "Python 3",
   "language": "python",
   "name": "python3"
  },
  "language_info": {
   "codemirror_mode": {
    "name": "ipython",
    "version": 3
   },
   "file_extension": ".py",
   "mimetype": "text/x-python",
   "name": "python",
   "nbconvert_exporter": "python",
   "pygments_lexer": "ipython3",
   "version": "3.11.13"
  },
  "papermill": {
   "default_parameters": {},
   "duration": 359.49503,
   "end_time": "2025-10-22T07:11:18.009299",
   "environment_variables": {},
   "exception": null,
   "input_path": "__notebook__.ipynb",
   "output_path": "__notebook__.ipynb",
   "parameters": {},
   "start_time": "2025-10-22T07:05:18.514269",
   "version": "2.6.0"
  }
 },
 "nbformat": 4,
 "nbformat_minor": 5
}
