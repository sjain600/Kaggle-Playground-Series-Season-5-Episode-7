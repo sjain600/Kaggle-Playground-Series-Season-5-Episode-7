{
 "cells": [
  {
   "cell_type": "markdown",
   "id": "559b459f",
   "metadata": {
    "papermill": {
     "duration": 0.005399,
     "end_time": "2025-10-24T05:54:08.555544",
     "exception": false,
     "start_time": "2025-10-24T05:54:08.550145",
     "status": "completed"
    },
    "tags": []
   },
   "source": [
    "## Creating a base level notebook to implement what I learn from the IBM Capstone Project."
   ]
  },
  {
   "cell_type": "code",
   "execution_count": 1,
   "id": "7c405313",
   "metadata": {
    "_cell_guid": "b1076dfc-b9ad-4769-8c92-a6c4dae69d19",
    "_uuid": "8f2839f25d086af736a60e9eeb907d3b93b6e0e5",
    "execution": {
     "iopub.execute_input": "2025-10-24T05:54:08.566017Z",
     "iopub.status.busy": "2025-10-24T05:54:08.565683Z",
     "iopub.status.idle": "2025-10-24T05:54:12.807982Z",
     "shell.execute_reply": "2025-10-24T05:54:12.807025Z"
    },
    "papermill": {
     "duration": 4.249471,
     "end_time": "2025-10-24T05:54:12.809515",
     "exception": false,
     "start_time": "2025-10-24T05:54:08.560044",
     "status": "completed"
    },
    "tags": []
   },
   "outputs": [
    {
     "name": "stdout",
     "output_type": "stream",
     "text": [
      "/kaggle/input/playground-series-s5e7/sample_submission.csv\n",
      "/kaggle/input/playground-series-s5e7/train.csv\n",
      "/kaggle/input/playground-series-s5e7/test.csv\n"
     ]
    },
    {
     "data": {
      "text/plain": [
       "<Figure size 1800x1080 with 0 Axes>"
      ]
     },
     "metadata": {},
     "output_type": "display_data"
    }
   ],
   "source": [
    "# This Python 3 environment comes with many helpful analytics libraries installed\n",
    "# It is defined by the kaggle/python Docker image: https://github.com/kaggle/docker-python\n",
    "# For example, here's several helpful packages to load\n",
    "\n",
    "import numpy as np # linear algebra\n",
    "import pandas as pd # data processing, CSV file I/O (e.g. pd.read_csv)\n",
    "import matplotlib.pyplot as plt\n",
    "import seaborn as sns\n",
    "from sklearn.preprocessing import StandardScaler, LabelEncoder\n",
    "from sklearn.model_selection import train_test_split, StratifiedKFold, GridSearchCV\n",
    "from sklearn.linear_model import LogisticRegression\n",
    "# Support Vector Machine classification algorithm\n",
    "from sklearn.svm import SVC\n",
    "# Decision Tree classification algorithm\n",
    "from sklearn.tree import DecisionTreeClassifier\n",
    "# K Nearest Neighbors classification algorithm\n",
    "from sklearn.neighbors import KNeighborsClassifier\n",
    "from sklearn.decomposition import PCA\n",
    "\n",
    "from sklearn.pipeline import Pipeline\n",
    "from sklearn.compose import ColumnTransformer\n",
    "from sklearn.impute import SimpleImputer, KNNImputer\n",
    "from sklearn.preprocessing import OneHotEncoder\n",
    "from sklearn.metrics import confusion_matrix, classification_report\n",
    "\n",
    "# Input data files are available in the read-only \"../input/\" directory\n",
    "# For example, running this (by clicking run or pressing Shift+Enter) will list all files under the input directory\n",
    "\n",
    "plt.style.use('seaborn-v0_8')\n",
    "plt.rc('figure', figsize=(10,6), dpi=180)\n",
    "plt.rc('axes', labelweight='bold', labelsize='large',\n",
    "       titleweight='bold', titlesize=15, titlepad=10)\n",
    "plt.rc('animation', html='html5')\n",
    "plt.tight_layout()\n",
    "\n",
    "%matplotlib inline\n",
    "\n",
    "import os\n",
    "for dirname, _, filenames in os.walk('/kaggle/input'):\n",
    "    for filename in filenames:\n",
    "        print(os.path.join(dirname, filename))\n",
    "\n",
    "\n",
    "# You can write up to 20GB to the current directory (/kaggle/working/) that gets preserved as output when you create a version using \"Save & Run All\" \n",
    "# You can also write temporary files to /kaggle/temp/, but they won't be saved outside of the current session"
   ]
  },
  {
   "cell_type": "code",
   "execution_count": 2,
   "id": "2b91e4d0",
   "metadata": {
    "execution": {
     "iopub.execute_input": "2025-10-24T05:54:12.820545Z",
     "iopub.status.busy": "2025-10-24T05:54:12.820106Z",
     "iopub.status.idle": "2025-10-24T05:54:12.936527Z",
     "shell.execute_reply": "2025-10-24T05:54:12.935537Z"
    },
    "papermill": {
     "duration": 0.123862,
     "end_time": "2025-10-24T05:54:12.938200",
     "exception": false,
     "start_time": "2025-10-24T05:54:12.814338",
     "status": "completed"
    },
    "tags": []
   },
   "outputs": [],
   "source": [
    "train = pd.read_csv('/kaggle/input/playground-series-s5e7/train.csv')\n",
    "test = pd.read_csv('/kaggle/input/playground-series-s5e7/test.csv')"
   ]
  },
  {
   "cell_type": "code",
   "execution_count": 3,
   "id": "5804526e",
   "metadata": {
    "execution": {
     "iopub.execute_input": "2025-10-24T05:54:12.949295Z",
     "iopub.status.busy": "2025-10-24T05:54:12.948463Z",
     "iopub.status.idle": "2025-10-24T05:54:12.965249Z",
     "shell.execute_reply": "2025-10-24T05:54:12.964285Z"
    },
    "papermill": {
     "duration": 0.023901,
     "end_time": "2025-10-24T05:54:12.966872",
     "exception": false,
     "start_time": "2025-10-24T05:54:12.942971",
     "status": "completed"
    },
    "tags": []
   },
   "outputs": [],
   "source": [
    "train.drop('id', axis=1, inplace=True)\n",
    "test.drop('id', axis=1, inplace=True)"
   ]
  },
  {
   "cell_type": "code",
   "execution_count": 4,
   "id": "099fce9d",
   "metadata": {
    "execution": {
     "iopub.execute_input": "2025-10-24T05:54:12.977274Z",
     "iopub.status.busy": "2025-10-24T05:54:12.976936Z",
     "iopub.status.idle": "2025-10-24T05:54:13.000574Z",
     "shell.execute_reply": "2025-10-24T05:54:12.999697Z"
    },
    "papermill": {
     "duration": 0.030646,
     "end_time": "2025-10-24T05:54:13.002231",
     "exception": false,
     "start_time": "2025-10-24T05:54:12.971585",
     "status": "completed"
    },
    "tags": []
   },
   "outputs": [
    {
     "name": "stderr",
     "output_type": "stream",
     "text": [
      "/usr/local/lib/python3.11/dist-packages/pandas/io/formats/format.py:1458: RuntimeWarning: invalid value encountered in greater\n",
      "  has_large_values = (abs_vals > 1e6).any()\n",
      "/usr/local/lib/python3.11/dist-packages/pandas/io/formats/format.py:1459: RuntimeWarning: invalid value encountered in less\n",
      "  has_small_values = ((abs_vals < 10 ** (-self.digits)) & (abs_vals > 0)).any()\n",
      "/usr/local/lib/python3.11/dist-packages/pandas/io/formats/format.py:1459: RuntimeWarning: invalid value encountered in greater\n",
      "  has_small_values = ((abs_vals < 10 ** (-self.digits)) & (abs_vals > 0)).any()\n"
     ]
    },
    {
     "data": {
      "text/html": [
       "<div>\n",
       "<style scoped>\n",
       "    .dataframe tbody tr th:only-of-type {\n",
       "        vertical-align: middle;\n",
       "    }\n",
       "\n",
       "    .dataframe tbody tr th {\n",
       "        vertical-align: top;\n",
       "    }\n",
       "\n",
       "    .dataframe thead th {\n",
       "        text-align: right;\n",
       "    }\n",
       "</style>\n",
       "<table border=\"1\" class=\"dataframe\">\n",
       "  <thead>\n",
       "    <tr style=\"text-align: right;\">\n",
       "      <th></th>\n",
       "      <th>Time_spent_Alone</th>\n",
       "      <th>Stage_fear</th>\n",
       "      <th>Social_event_attendance</th>\n",
       "      <th>Going_outside</th>\n",
       "      <th>Drained_after_socializing</th>\n",
       "      <th>Friends_circle_size</th>\n",
       "      <th>Post_frequency</th>\n",
       "      <th>Personality</th>\n",
       "    </tr>\n",
       "  </thead>\n",
       "  <tbody>\n",
       "    <tr>\n",
       "      <th>0</th>\n",
       "      <td>0.0</td>\n",
       "      <td>No</td>\n",
       "      <td>6.0</td>\n",
       "      <td>4.0</td>\n",
       "      <td>No</td>\n",
       "      <td>15.0</td>\n",
       "      <td>5.0</td>\n",
       "      <td>Extrovert</td>\n",
       "    </tr>\n",
       "    <tr>\n",
       "      <th>1</th>\n",
       "      <td>1.0</td>\n",
       "      <td>No</td>\n",
       "      <td>7.0</td>\n",
       "      <td>3.0</td>\n",
       "      <td>No</td>\n",
       "      <td>10.0</td>\n",
       "      <td>8.0</td>\n",
       "      <td>Extrovert</td>\n",
       "    </tr>\n",
       "    <tr>\n",
       "      <th>2</th>\n",
       "      <td>6.0</td>\n",
       "      <td>Yes</td>\n",
       "      <td>1.0</td>\n",
       "      <td>0.0</td>\n",
       "      <td>NaN</td>\n",
       "      <td>3.0</td>\n",
       "      <td>0.0</td>\n",
       "      <td>Introvert</td>\n",
       "    </tr>\n",
       "    <tr>\n",
       "      <th>3</th>\n",
       "      <td>3.0</td>\n",
       "      <td>No</td>\n",
       "      <td>7.0</td>\n",
       "      <td>3.0</td>\n",
       "      <td>No</td>\n",
       "      <td>11.0</td>\n",
       "      <td>5.0</td>\n",
       "      <td>Extrovert</td>\n",
       "    </tr>\n",
       "    <tr>\n",
       "      <th>4</th>\n",
       "      <td>1.0</td>\n",
       "      <td>No</td>\n",
       "      <td>4.0</td>\n",
       "      <td>4.0</td>\n",
       "      <td>No</td>\n",
       "      <td>13.0</td>\n",
       "      <td>NaN</td>\n",
       "      <td>Extrovert</td>\n",
       "    </tr>\n",
       "  </tbody>\n",
       "</table>\n",
       "</div>"
      ],
      "text/plain": [
       "   Time_spent_Alone Stage_fear  Social_event_attendance  Going_outside  \\\n",
       "0               0.0         No                      6.0            4.0   \n",
       "1               1.0         No                      7.0            3.0   \n",
       "2               6.0        Yes                      1.0            0.0   \n",
       "3               3.0         No                      7.0            3.0   \n",
       "4               1.0         No                      4.0            4.0   \n",
       "\n",
       "  Drained_after_socializing  Friends_circle_size  Post_frequency Personality  \n",
       "0                        No                 15.0             5.0   Extrovert  \n",
       "1                        No                 10.0             8.0   Extrovert  \n",
       "2                       NaN                  3.0             0.0   Introvert  \n",
       "3                        No                 11.0             5.0   Extrovert  \n",
       "4                        No                 13.0             NaN   Extrovert  "
      ]
     },
     "execution_count": 4,
     "metadata": {},
     "output_type": "execute_result"
    }
   ],
   "source": [
    "train.head()"
   ]
  },
  {
   "cell_type": "code",
   "execution_count": 5,
   "id": "2d5c0387",
   "metadata": {
    "execution": {
     "iopub.execute_input": "2025-10-24T05:54:13.014834Z",
     "iopub.status.busy": "2025-10-24T05:54:13.014543Z",
     "iopub.status.idle": "2025-10-24T05:54:13.021429Z",
     "shell.execute_reply": "2025-10-24T05:54:13.020362Z"
    },
    "papermill": {
     "duration": 0.015135,
     "end_time": "2025-10-24T05:54:13.023099",
     "exception": false,
     "start_time": "2025-10-24T05:54:13.007964",
     "status": "completed"
    },
    "tags": []
   },
   "outputs": [
    {
     "data": {
      "text/plain": [
       "Time_spent_Alone             float64\n",
       "Stage_fear                    object\n",
       "Social_event_attendance      float64\n",
       "Going_outside                float64\n",
       "Drained_after_socializing     object\n",
       "Friends_circle_size          float64\n",
       "Post_frequency               float64\n",
       "Personality                   object\n",
       "dtype: object"
      ]
     },
     "execution_count": 5,
     "metadata": {},
     "output_type": "execute_result"
    }
   ],
   "source": [
    "train.dtypes"
   ]
  },
  {
   "cell_type": "code",
   "execution_count": 6,
   "id": "ab0bc0b7",
   "metadata": {
    "execution": {
     "iopub.execute_input": "2025-10-24T05:54:13.034849Z",
     "iopub.status.busy": "2025-10-24T05:54:13.033891Z",
     "iopub.status.idle": "2025-10-24T05:54:13.044059Z",
     "shell.execute_reply": "2025-10-24T05:54:13.043243Z"
    },
    "papermill": {
     "duration": 0.017171,
     "end_time": "2025-10-24T05:54:13.045364",
     "exception": false,
     "start_time": "2025-10-24T05:54:13.028193",
     "status": "completed"
    },
    "tags": []
   },
   "outputs": [
    {
     "data": {
      "text/plain": [
       "Time_spent_Alone             1190\n",
       "Stage_fear                   1893\n",
       "Social_event_attendance      1180\n",
       "Going_outside                1466\n",
       "Drained_after_socializing    1149\n",
       "Friends_circle_size          1054\n",
       "Post_frequency               1264\n",
       "Personality                     0\n",
       "dtype: int64"
      ]
     },
     "execution_count": 6,
     "metadata": {},
     "output_type": "execute_result"
    }
   ],
   "source": [
    "train.isnull().sum()"
   ]
  },
  {
   "cell_type": "code",
   "execution_count": 7,
   "id": "cdde8b77",
   "metadata": {
    "execution": {
     "iopub.execute_input": "2025-10-24T05:54:13.056243Z",
     "iopub.status.busy": "2025-10-24T05:54:13.055958Z",
     "iopub.status.idle": "2025-10-24T05:54:13.064275Z",
     "shell.execute_reply": "2025-10-24T05:54:13.063436Z"
    },
    "papermill": {
     "duration": 0.015501,
     "end_time": "2025-10-24T05:54:13.065797",
     "exception": false,
     "start_time": "2025-10-24T05:54:13.050296",
     "status": "completed"
    },
    "tags": []
   },
   "outputs": [
    {
     "data": {
      "text/plain": [
       "Time_spent_Alone             425\n",
       "Stage_fear                   598\n",
       "Social_event_attendance      397\n",
       "Going_outside                466\n",
       "Drained_after_socializing    432\n",
       "Friends_circle_size          350\n",
       "Post_frequency               408\n",
       "dtype: int64"
      ]
     },
     "execution_count": 7,
     "metadata": {},
     "output_type": "execute_result"
    }
   ],
   "source": [
    "test.isnull().sum()"
   ]
  },
  {
   "cell_type": "code",
   "execution_count": 8,
   "id": "40288a90",
   "metadata": {
    "execution": {
     "iopub.execute_input": "2025-10-24T05:54:13.077254Z",
     "iopub.status.busy": "2025-10-24T05:54:13.076754Z",
     "iopub.status.idle": "2025-10-24T05:54:13.082788Z",
     "shell.execute_reply": "2025-10-24T05:54:13.081651Z"
    },
    "papermill": {
     "duration": 0.013202,
     "end_time": "2025-10-24T05:54:13.084130",
     "exception": false,
     "start_time": "2025-10-24T05:54:13.070928",
     "status": "completed"
    },
    "tags": []
   },
   "outputs": [],
   "source": [
    "num_cols = test.select_dtypes(include='float64').columns.to_list()\n",
    "cat_cols = test.select_dtypes(include='object').columns.to_list()"
   ]
  },
  {
   "cell_type": "code",
   "execution_count": 9,
   "id": "cf0d46c6",
   "metadata": {
    "execution": {
     "iopub.execute_input": "2025-10-24T05:54:13.095778Z",
     "iopub.status.busy": "2025-10-24T05:54:13.095054Z",
     "iopub.status.idle": "2025-10-24T05:54:13.099625Z",
     "shell.execute_reply": "2025-10-24T05:54:13.098881Z"
    },
    "papermill": {
     "duration": 0.011684,
     "end_time": "2025-10-24T05:54:13.100927",
     "exception": false,
     "start_time": "2025-10-24T05:54:13.089243",
     "status": "completed"
    },
    "tags": []
   },
   "outputs": [],
   "source": [
    "cat_transformer = Pipeline([\n",
    "    ('imp', SimpleImputer(strategy='constant', fill_value='unknown')),\n",
    "    ('ohe', OneHotEncoder(handle_unknown='ignore', sparse_output=False))\n",
    "])\n",
    "\n",
    "num_transformer = SimpleImputer(strategy='median')"
   ]
  },
  {
   "cell_type": "code",
   "execution_count": 10,
   "id": "e3372407",
   "metadata": {
    "execution": {
     "iopub.execute_input": "2025-10-24T05:54:13.112321Z",
     "iopub.status.busy": "2025-10-24T05:54:13.112035Z",
     "iopub.status.idle": "2025-10-24T05:54:13.116386Z",
     "shell.execute_reply": "2025-10-24T05:54:13.115470Z"
    },
    "papermill": {
     "duration": 0.011818,
     "end_time": "2025-10-24T05:54:13.117841",
     "exception": false,
     "start_time": "2025-10-24T05:54:13.106023",
     "status": "completed"
    },
    "tags": []
   },
   "outputs": [],
   "source": [
    "preprocessor = ColumnTransformer([\n",
    "    ('num', num_transformer, num_cols),\n",
    "    ('cat', cat_transformer, cat_cols),    \n",
    "])"
   ]
  },
  {
   "cell_type": "code",
   "execution_count": 11,
   "id": "484f157c",
   "metadata": {
    "execution": {
     "iopub.execute_input": "2025-10-24T05:54:13.129628Z",
     "iopub.status.busy": "2025-10-24T05:54:13.128828Z",
     "iopub.status.idle": "2025-10-24T05:54:13.135441Z",
     "shell.execute_reply": "2025-10-24T05:54:13.134702Z"
    },
    "papermill": {
     "duration": 0.013684,
     "end_time": "2025-10-24T05:54:13.136707",
     "exception": false,
     "start_time": "2025-10-24T05:54:13.123023",
     "status": "completed"
    },
    "tags": []
   },
   "outputs": [],
   "source": [
    "train['Personality'] = train['Personality'].map({'Extrovert': 1, 'Introvert': 0})\n"
   ]
  },
  {
   "cell_type": "code",
   "execution_count": 12,
   "id": "a480101c",
   "metadata": {
    "execution": {
     "iopub.execute_input": "2025-10-24T05:54:13.148158Z",
     "iopub.status.busy": "2025-10-24T05:54:13.147849Z",
     "iopub.status.idle": "2025-10-24T05:54:13.153594Z",
     "shell.execute_reply": "2025-10-24T05:54:13.152826Z"
    },
    "papermill": {
     "duration": 0.013034,
     "end_time": "2025-10-24T05:54:13.155036",
     "exception": false,
     "start_time": "2025-10-24T05:54:13.142002",
     "status": "completed"
    },
    "tags": []
   },
   "outputs": [],
   "source": [
    "X = train.copy()\n",
    "y = X.pop('Personality')"
   ]
  },
  {
   "cell_type": "code",
   "execution_count": 13,
   "id": "c79d26cf",
   "metadata": {
    "execution": {
     "iopub.execute_input": "2025-10-24T05:54:13.166679Z",
     "iopub.status.busy": "2025-10-24T05:54:13.166391Z",
     "iopub.status.idle": "2025-10-24T05:54:13.175161Z",
     "shell.execute_reply": "2025-10-24T05:54:13.174222Z"
    },
    "papermill": {
     "duration": 0.01625,
     "end_time": "2025-10-24T05:54:13.176638",
     "exception": false,
     "start_time": "2025-10-24T05:54:13.160388",
     "status": "completed"
    },
    "tags": []
   },
   "outputs": [],
   "source": [
    "X_train, X_valid, y_train, y_valid = train_test_split(X, y, test_size=0.25, random_state=2)"
   ]
  },
  {
   "cell_type": "code",
   "execution_count": 14,
   "id": "32834bfd",
   "metadata": {
    "execution": {
     "iopub.execute_input": "2025-10-24T05:54:13.188728Z",
     "iopub.status.busy": "2025-10-24T05:54:13.187764Z",
     "iopub.status.idle": "2025-10-24T05:54:13.193842Z",
     "shell.execute_reply": "2025-10-24T05:54:13.193087Z"
    },
    "papermill": {
     "duration": 0.013407,
     "end_time": "2025-10-24T05:54:13.195136",
     "exception": false,
     "start_time": "2025-10-24T05:54:13.181729",
     "status": "completed"
    },
    "tags": []
   },
   "outputs": [],
   "source": [
    "def plot_confusion_matrix(y,y_predict):\n",
    "    \"this function plots the confusion matrix\"\n",
    "\n",
    "    cm = confusion_matrix(y, y_predict)\n",
    "    plt.figure(figsize=(10, 6))\n",
    "    ax= plt.subplot()\n",
    "    sns.heatmap(cm, annot=True, fmt='d', ax = ax); #annot=True to annotate cells\n",
    "    ax.set_xlabel('Predicted labels')\n",
    "    ax.set_ylabel('True labels')\n",
    "    ax.set_title('Confusion Matrix'); \n",
    "    ax.xaxis.set_ticklabels(['Introvert', 'Extrovert']); ax.yaxis.set_ticklabels(['Introvert', 'Extrovert']) \n",
    "    plt.show() "
   ]
  },
  {
   "cell_type": "code",
   "execution_count": 15,
   "id": "74e052e7",
   "metadata": {
    "execution": {
     "iopub.execute_input": "2025-10-24T05:54:13.206837Z",
     "iopub.status.busy": "2025-10-24T05:54:13.206532Z",
     "iopub.status.idle": "2025-10-24T05:54:13.210752Z",
     "shell.execute_reply": "2025-10-24T05:54:13.210002Z"
    },
    "papermill": {
     "duration": 0.011683,
     "end_time": "2025-10-24T05:54:13.212153",
     "exception": false,
     "start_time": "2025-10-24T05:54:13.200470",
     "status": "completed"
    },
    "tags": []
   },
   "outputs": [],
   "source": [
    "cv = StratifiedKFold(n_splits=10, random_state=2, shuffle=True)"
   ]
  },
  {
   "cell_type": "code",
   "execution_count": 16,
   "id": "70045764",
   "metadata": {
    "execution": {
     "iopub.execute_input": "2025-10-24T05:54:13.223867Z",
     "iopub.status.busy": "2025-10-24T05:54:13.223545Z",
     "iopub.status.idle": "2025-10-24T05:54:13.228118Z",
     "shell.execute_reply": "2025-10-24T05:54:13.227273Z"
    },
    "papermill": {
     "duration": 0.012106,
     "end_time": "2025-10-24T05:54:13.229517",
     "exception": false,
     "start_time": "2025-10-24T05:54:13.217411",
     "status": "completed"
    },
    "tags": []
   },
   "outputs": [],
   "source": [
    "pipeline = Pipeline([\n",
    "    ('preprocessor', preprocessor),\n",
    "    ('pca', PCA()),\n",
    "    ('knn', KNeighborsClassifier()),\n",
    "])"
   ]
  },
  {
   "cell_type": "code",
   "execution_count": 17,
   "id": "efe366ae",
   "metadata": {
    "execution": {
     "iopub.execute_input": "2025-10-24T05:54:13.241096Z",
     "iopub.status.busy": "2025-10-24T05:54:13.240761Z",
     "iopub.status.idle": "2025-10-24T05:54:13.245426Z",
     "shell.execute_reply": "2025-10-24T05:54:13.244648Z"
    },
    "papermill": {
     "duration": 0.011909,
     "end_time": "2025-10-24T05:54:13.246751",
     "exception": false,
     "start_time": "2025-10-24T05:54:13.234842",
     "status": "completed"
    },
    "tags": []
   },
   "outputs": [],
   "source": [
    "param_grid = {'pca__n_components': [2, 3],\n",
    "              'knn__n_neighbors': [3, 5, 7],\n",
    "              'knn__algorithm': ['auto', 'ball_tree', 'kd_tree', 'brute'],\n",
    "              'knn__p': [1, 2]\n",
    "             }"
   ]
  },
  {
   "cell_type": "code",
   "execution_count": 18,
   "id": "d106420e",
   "metadata": {
    "execution": {
     "iopub.execute_input": "2025-10-24T05:54:13.258087Z",
     "iopub.status.busy": "2025-10-24T05:54:13.257751Z",
     "iopub.status.idle": "2025-10-24T05:54:13.262022Z",
     "shell.execute_reply": "2025-10-24T05:54:13.261018Z"
    },
    "papermill": {
     "duration": 0.011541,
     "end_time": "2025-10-24T05:54:13.263471",
     "exception": false,
     "start_time": "2025-10-24T05:54:13.251930",
     "status": "completed"
    },
    "tags": []
   },
   "outputs": [],
   "source": [
    "best_model = GridSearchCV(estimator=pipeline, param_grid=param_grid, cv=cv, scoring='accuracy')"
   ]
  },
  {
   "cell_type": "code",
   "execution_count": 19,
   "id": "53f5497b",
   "metadata": {
    "execution": {
     "iopub.execute_input": "2025-10-24T05:54:13.275317Z",
     "iopub.status.busy": "2025-10-24T05:54:13.274683Z",
     "iopub.status.idle": "2025-10-24T05:55:38.863336Z",
     "shell.execute_reply": "2025-10-24T05:55:38.862333Z"
    },
    "papermill": {
     "duration": 85.601549,
     "end_time": "2025-10-24T05:55:38.870327",
     "exception": false,
     "start_time": "2025-10-24T05:54:13.268778",
     "status": "completed"
    },
    "tags": []
   },
   "outputs": [
    {
     "data": {
      "text/html": [
       "<style>#sk-container-id-1 {color: black;background-color: white;}#sk-container-id-1 pre{padding: 0;}#sk-container-id-1 div.sk-toggleable {background-color: white;}#sk-container-id-1 label.sk-toggleable__label {cursor: pointer;display: block;width: 100%;margin-bottom: 0;padding: 0.3em;box-sizing: border-box;text-align: center;}#sk-container-id-1 label.sk-toggleable__label-arrow:before {content: \"▸\";float: left;margin-right: 0.25em;color: #696969;}#sk-container-id-1 label.sk-toggleable__label-arrow:hover:before {color: black;}#sk-container-id-1 div.sk-estimator:hover label.sk-toggleable__label-arrow:before {color: black;}#sk-container-id-1 div.sk-toggleable__content {max-height: 0;max-width: 0;overflow: hidden;text-align: left;background-color: #f0f8ff;}#sk-container-id-1 div.sk-toggleable__content pre {margin: 0.2em;color: black;border-radius: 0.25em;background-color: #f0f8ff;}#sk-container-id-1 input.sk-toggleable__control:checked~div.sk-toggleable__content {max-height: 200px;max-width: 100%;overflow: auto;}#sk-container-id-1 input.sk-toggleable__control:checked~label.sk-toggleable__label-arrow:before {content: \"▾\";}#sk-container-id-1 div.sk-estimator input.sk-toggleable__control:checked~label.sk-toggleable__label {background-color: #d4ebff;}#sk-container-id-1 div.sk-label input.sk-toggleable__control:checked~label.sk-toggleable__label {background-color: #d4ebff;}#sk-container-id-1 input.sk-hidden--visually {border: 0;clip: rect(1px 1px 1px 1px);clip: rect(1px, 1px, 1px, 1px);height: 1px;margin: -1px;overflow: hidden;padding: 0;position: absolute;width: 1px;}#sk-container-id-1 div.sk-estimator {font-family: monospace;background-color: #f0f8ff;border: 1px dotted black;border-radius: 0.25em;box-sizing: border-box;margin-bottom: 0.5em;}#sk-container-id-1 div.sk-estimator:hover {background-color: #d4ebff;}#sk-container-id-1 div.sk-parallel-item::after {content: \"\";width: 100%;border-bottom: 1px solid gray;flex-grow: 1;}#sk-container-id-1 div.sk-label:hover label.sk-toggleable__label {background-color: #d4ebff;}#sk-container-id-1 div.sk-serial::before {content: \"\";position: absolute;border-left: 1px solid gray;box-sizing: border-box;top: 0;bottom: 0;left: 50%;z-index: 0;}#sk-container-id-1 div.sk-serial {display: flex;flex-direction: column;align-items: center;background-color: white;padding-right: 0.2em;padding-left: 0.2em;position: relative;}#sk-container-id-1 div.sk-item {position: relative;z-index: 1;}#sk-container-id-1 div.sk-parallel {display: flex;align-items: stretch;justify-content: center;background-color: white;position: relative;}#sk-container-id-1 div.sk-item::before, #sk-container-id-1 div.sk-parallel-item::before {content: \"\";position: absolute;border-left: 1px solid gray;box-sizing: border-box;top: 0;bottom: 0;left: 50%;z-index: -1;}#sk-container-id-1 div.sk-parallel-item {display: flex;flex-direction: column;z-index: 1;position: relative;background-color: white;}#sk-container-id-1 div.sk-parallel-item:first-child::after {align-self: flex-end;width: 50%;}#sk-container-id-1 div.sk-parallel-item:last-child::after {align-self: flex-start;width: 50%;}#sk-container-id-1 div.sk-parallel-item:only-child::after {width: 0;}#sk-container-id-1 div.sk-dashed-wrapped {border: 1px dashed gray;margin: 0 0.4em 0.5em 0.4em;box-sizing: border-box;padding-bottom: 0.4em;background-color: white;}#sk-container-id-1 div.sk-label label {font-family: monospace;font-weight: bold;display: inline-block;line-height: 1.2em;}#sk-container-id-1 div.sk-label-container {text-align: center;}#sk-container-id-1 div.sk-container {/* jupyter's `normalize.less` sets `[hidden] { display: none; }` but bootstrap.min.css set `[hidden] { display: none !important; }` so we also need the `!important` here to be able to override the default hidden behavior on the sphinx rendered scikit-learn.org. See: https://github.com/scikit-learn/scikit-learn/issues/21755 */display: inline-block !important;position: relative;}#sk-container-id-1 div.sk-text-repr-fallback {display: none;}</style><div id=\"sk-container-id-1\" class=\"sk-top-container\"><div class=\"sk-text-repr-fallback\"><pre>GridSearchCV(cv=StratifiedKFold(n_splits=10, random_state=2, shuffle=True),\n",
       "             estimator=Pipeline(steps=[(&#x27;preprocessor&#x27;,\n",
       "                                        ColumnTransformer(transformers=[(&#x27;num&#x27;,\n",
       "                                                                         SimpleImputer(strategy=&#x27;median&#x27;),\n",
       "                                                                         [&#x27;Time_spent_Alone&#x27;,\n",
       "                                                                          &#x27;Social_event_attendance&#x27;,\n",
       "                                                                          &#x27;Going_outside&#x27;,\n",
       "                                                                          &#x27;Friends_circle_size&#x27;,\n",
       "                                                                          &#x27;Post_frequency&#x27;]),\n",
       "                                                                        (&#x27;cat&#x27;,\n",
       "                                                                         Pipeline(steps=[(&#x27;imp&#x27;,\n",
       "                                                                                          SimpleImputer(fill_value=&#x27;unknown&#x27;,\n",
       "                                                                                                        strategy=&#x27;constant&#x27;)),\n",
       "                                                                                         (&#x27;ohe&#x27;,\n",
       "                                                                                          OneHotEncoder(handle_unknown=&#x27;ignore&#x27;,\n",
       "                                                                                                        sparse_output=False))]),\n",
       "                                                                         [&#x27;Stage_fear&#x27;,\n",
       "                                                                          &#x27;Drained_after_socializing&#x27;])])),\n",
       "                                       (&#x27;pca&#x27;, PCA()),\n",
       "                                       (&#x27;knn&#x27;, KNeighborsClassifier())]),\n",
       "             param_grid={&#x27;knn__algorithm&#x27;: [&#x27;auto&#x27;, &#x27;ball_tree&#x27;, &#x27;kd_tree&#x27;,\n",
       "                                            &#x27;brute&#x27;],\n",
       "                         &#x27;knn__n_neighbors&#x27;: [3, 5, 7], &#x27;knn__p&#x27;: [1, 2],\n",
       "                         &#x27;pca__n_components&#x27;: [2, 3]},\n",
       "             scoring=&#x27;accuracy&#x27;)</pre><b>In a Jupyter environment, please rerun this cell to show the HTML representation or trust the notebook. <br />On GitHub, the HTML representation is unable to render, please try loading this page with nbviewer.org.</b></div><div class=\"sk-container\" hidden><div class=\"sk-item sk-dashed-wrapped\"><div class=\"sk-label-container\"><div class=\"sk-label sk-toggleable\"><input class=\"sk-toggleable__control sk-hidden--visually\" id=\"sk-estimator-id-1\" type=\"checkbox\" ><label for=\"sk-estimator-id-1\" class=\"sk-toggleable__label sk-toggleable__label-arrow\">GridSearchCV</label><div class=\"sk-toggleable__content\"><pre>GridSearchCV(cv=StratifiedKFold(n_splits=10, random_state=2, shuffle=True),\n",
       "             estimator=Pipeline(steps=[(&#x27;preprocessor&#x27;,\n",
       "                                        ColumnTransformer(transformers=[(&#x27;num&#x27;,\n",
       "                                                                         SimpleImputer(strategy=&#x27;median&#x27;),\n",
       "                                                                         [&#x27;Time_spent_Alone&#x27;,\n",
       "                                                                          &#x27;Social_event_attendance&#x27;,\n",
       "                                                                          &#x27;Going_outside&#x27;,\n",
       "                                                                          &#x27;Friends_circle_size&#x27;,\n",
       "                                                                          &#x27;Post_frequency&#x27;]),\n",
       "                                                                        (&#x27;cat&#x27;,\n",
       "                                                                         Pipeline(steps=[(&#x27;imp&#x27;,\n",
       "                                                                                          SimpleImputer(fill_value=&#x27;unknown&#x27;,\n",
       "                                                                                                        strategy=&#x27;constant&#x27;)),\n",
       "                                                                                         (&#x27;ohe&#x27;,\n",
       "                                                                                          OneHotEncoder(handle_unknown=&#x27;ignore&#x27;,\n",
       "                                                                                                        sparse_output=False))]),\n",
       "                                                                         [&#x27;Stage_fear&#x27;,\n",
       "                                                                          &#x27;Drained_after_socializing&#x27;])])),\n",
       "                                       (&#x27;pca&#x27;, PCA()),\n",
       "                                       (&#x27;knn&#x27;, KNeighborsClassifier())]),\n",
       "             param_grid={&#x27;knn__algorithm&#x27;: [&#x27;auto&#x27;, &#x27;ball_tree&#x27;, &#x27;kd_tree&#x27;,\n",
       "                                            &#x27;brute&#x27;],\n",
       "                         &#x27;knn__n_neighbors&#x27;: [3, 5, 7], &#x27;knn__p&#x27;: [1, 2],\n",
       "                         &#x27;pca__n_components&#x27;: [2, 3]},\n",
       "             scoring=&#x27;accuracy&#x27;)</pre></div></div></div><div class=\"sk-parallel\"><div class=\"sk-parallel-item\"><div class=\"sk-item\"><div class=\"sk-label-container\"><div class=\"sk-label sk-toggleable\"><input class=\"sk-toggleable__control sk-hidden--visually\" id=\"sk-estimator-id-2\" type=\"checkbox\" ><label for=\"sk-estimator-id-2\" class=\"sk-toggleable__label sk-toggleable__label-arrow\">estimator: Pipeline</label><div class=\"sk-toggleable__content\"><pre>Pipeline(steps=[(&#x27;preprocessor&#x27;,\n",
       "                 ColumnTransformer(transformers=[(&#x27;num&#x27;,\n",
       "                                                  SimpleImputer(strategy=&#x27;median&#x27;),\n",
       "                                                  [&#x27;Time_spent_Alone&#x27;,\n",
       "                                                   &#x27;Social_event_attendance&#x27;,\n",
       "                                                   &#x27;Going_outside&#x27;,\n",
       "                                                   &#x27;Friends_circle_size&#x27;,\n",
       "                                                   &#x27;Post_frequency&#x27;]),\n",
       "                                                 (&#x27;cat&#x27;,\n",
       "                                                  Pipeline(steps=[(&#x27;imp&#x27;,\n",
       "                                                                   SimpleImputer(fill_value=&#x27;unknown&#x27;,\n",
       "                                                                                 strategy=&#x27;constant&#x27;)),\n",
       "                                                                  (&#x27;ohe&#x27;,\n",
       "                                                                   OneHotEncoder(handle_unknown=&#x27;ignore&#x27;,\n",
       "                                                                                 sparse_output=False))]),\n",
       "                                                  [&#x27;Stage_fear&#x27;,\n",
       "                                                   &#x27;Drained_after_socializing&#x27;])])),\n",
       "                (&#x27;pca&#x27;, PCA()), (&#x27;knn&#x27;, KNeighborsClassifier())])</pre></div></div></div><div class=\"sk-serial\"><div class=\"sk-item\"><div class=\"sk-serial\"><div class=\"sk-item sk-dashed-wrapped\"><div class=\"sk-label-container\"><div class=\"sk-label sk-toggleable\"><input class=\"sk-toggleable__control sk-hidden--visually\" id=\"sk-estimator-id-3\" type=\"checkbox\" ><label for=\"sk-estimator-id-3\" class=\"sk-toggleable__label sk-toggleable__label-arrow\">preprocessor: ColumnTransformer</label><div class=\"sk-toggleable__content\"><pre>ColumnTransformer(transformers=[(&#x27;num&#x27;, SimpleImputer(strategy=&#x27;median&#x27;),\n",
       "                                 [&#x27;Time_spent_Alone&#x27;, &#x27;Social_event_attendance&#x27;,\n",
       "                                  &#x27;Going_outside&#x27;, &#x27;Friends_circle_size&#x27;,\n",
       "                                  &#x27;Post_frequency&#x27;]),\n",
       "                                (&#x27;cat&#x27;,\n",
       "                                 Pipeline(steps=[(&#x27;imp&#x27;,\n",
       "                                                  SimpleImputer(fill_value=&#x27;unknown&#x27;,\n",
       "                                                                strategy=&#x27;constant&#x27;)),\n",
       "                                                 (&#x27;ohe&#x27;,\n",
       "                                                  OneHotEncoder(handle_unknown=&#x27;ignore&#x27;,\n",
       "                                                                sparse_output=False))]),\n",
       "                                 [&#x27;Stage_fear&#x27;, &#x27;Drained_after_socializing&#x27;])])</pre></div></div></div><div class=\"sk-parallel\"><div class=\"sk-parallel-item\"><div class=\"sk-item\"><div class=\"sk-label-container\"><div class=\"sk-label sk-toggleable\"><input class=\"sk-toggleable__control sk-hidden--visually\" id=\"sk-estimator-id-4\" type=\"checkbox\" ><label for=\"sk-estimator-id-4\" class=\"sk-toggleable__label sk-toggleable__label-arrow\">num</label><div class=\"sk-toggleable__content\"><pre>[&#x27;Time_spent_Alone&#x27;, &#x27;Social_event_attendance&#x27;, &#x27;Going_outside&#x27;, &#x27;Friends_circle_size&#x27;, &#x27;Post_frequency&#x27;]</pre></div></div></div><div class=\"sk-serial\"><div class=\"sk-item\"><div class=\"sk-estimator sk-toggleable\"><input class=\"sk-toggleable__control sk-hidden--visually\" id=\"sk-estimator-id-5\" type=\"checkbox\" ><label for=\"sk-estimator-id-5\" class=\"sk-toggleable__label sk-toggleable__label-arrow\">SimpleImputer</label><div class=\"sk-toggleable__content\"><pre>SimpleImputer(strategy=&#x27;median&#x27;)</pre></div></div></div></div></div></div><div class=\"sk-parallel-item\"><div class=\"sk-item\"><div class=\"sk-label-container\"><div class=\"sk-label sk-toggleable\"><input class=\"sk-toggleable__control sk-hidden--visually\" id=\"sk-estimator-id-6\" type=\"checkbox\" ><label for=\"sk-estimator-id-6\" class=\"sk-toggleable__label sk-toggleable__label-arrow\">cat</label><div class=\"sk-toggleable__content\"><pre>[&#x27;Stage_fear&#x27;, &#x27;Drained_after_socializing&#x27;]</pre></div></div></div><div class=\"sk-serial\"><div class=\"sk-item\"><div class=\"sk-serial\"><div class=\"sk-item\"><div class=\"sk-estimator sk-toggleable\"><input class=\"sk-toggleable__control sk-hidden--visually\" id=\"sk-estimator-id-7\" type=\"checkbox\" ><label for=\"sk-estimator-id-7\" class=\"sk-toggleable__label sk-toggleable__label-arrow\">SimpleImputer</label><div class=\"sk-toggleable__content\"><pre>SimpleImputer(fill_value=&#x27;unknown&#x27;, strategy=&#x27;constant&#x27;)</pre></div></div></div><div class=\"sk-item\"><div class=\"sk-estimator sk-toggleable\"><input class=\"sk-toggleable__control sk-hidden--visually\" id=\"sk-estimator-id-8\" type=\"checkbox\" ><label for=\"sk-estimator-id-8\" class=\"sk-toggleable__label sk-toggleable__label-arrow\">OneHotEncoder</label><div class=\"sk-toggleable__content\"><pre>OneHotEncoder(handle_unknown=&#x27;ignore&#x27;, sparse_output=False)</pre></div></div></div></div></div></div></div></div></div></div><div class=\"sk-item\"><div class=\"sk-estimator sk-toggleable\"><input class=\"sk-toggleable__control sk-hidden--visually\" id=\"sk-estimator-id-9\" type=\"checkbox\" ><label for=\"sk-estimator-id-9\" class=\"sk-toggleable__label sk-toggleable__label-arrow\">PCA</label><div class=\"sk-toggleable__content\"><pre>PCA()</pre></div></div></div><div class=\"sk-item\"><div class=\"sk-estimator sk-toggleable\"><input class=\"sk-toggleable__control sk-hidden--visually\" id=\"sk-estimator-id-10\" type=\"checkbox\" ><label for=\"sk-estimator-id-10\" class=\"sk-toggleable__label sk-toggleable__label-arrow\">KNeighborsClassifier</label><div class=\"sk-toggleable__content\"><pre>KNeighborsClassifier()</pre></div></div></div></div></div></div></div></div></div></div></div></div>"
      ],
      "text/plain": [
       "GridSearchCV(cv=StratifiedKFold(n_splits=10, random_state=2, shuffle=True),\n",
       "             estimator=Pipeline(steps=[('preprocessor',\n",
       "                                        ColumnTransformer(transformers=[('num',\n",
       "                                                                         SimpleImputer(strategy='median'),\n",
       "                                                                         ['Time_spent_Alone',\n",
       "                                                                          'Social_event_attendance',\n",
       "                                                                          'Going_outside',\n",
       "                                                                          'Friends_circle_size',\n",
       "                                                                          'Post_frequency']),\n",
       "                                                                        ('cat',\n",
       "                                                                         Pipeline(steps=[('imp',\n",
       "                                                                                          SimpleImputer(fill_value='unknown',\n",
       "                                                                                                        strategy='constant')),\n",
       "                                                                                         ('ohe',\n",
       "                                                                                          OneHotEncoder(handle_unknown='ignore',\n",
       "                                                                                                        sparse_output=False))]),\n",
       "                                                                         ['Stage_fear',\n",
       "                                                                          'Drained_after_socializing'])])),\n",
       "                                       ('pca', PCA()),\n",
       "                                       ('knn', KNeighborsClassifier())]),\n",
       "             param_grid={'knn__algorithm': ['auto', 'ball_tree', 'kd_tree',\n",
       "                                            'brute'],\n",
       "                         'knn__n_neighbors': [3, 5, 7], 'knn__p': [1, 2],\n",
       "                         'pca__n_components': [2, 3]},\n",
       "             scoring='accuracy')"
      ]
     },
     "execution_count": 19,
     "metadata": {},
     "output_type": "execute_result"
    }
   ],
   "source": [
    "best_model.fit(X_train, y_train)"
   ]
  },
  {
   "cell_type": "code",
   "execution_count": 20,
   "id": "ad88e577",
   "metadata": {
    "execution": {
     "iopub.execute_input": "2025-10-24T05:55:38.882628Z",
     "iopub.status.busy": "2025-10-24T05:55:38.882007Z",
     "iopub.status.idle": "2025-10-24T05:55:38.886799Z",
     "shell.execute_reply": "2025-10-24T05:55:38.885794Z"
    },
    "papermill": {
     "duration": 0.012519,
     "end_time": "2025-10-24T05:55:38.888175",
     "exception": false,
     "start_time": "2025-10-24T05:55:38.875656",
     "status": "completed"
    },
    "tags": []
   },
   "outputs": [
    {
     "name": "stdout",
     "output_type": "stream",
     "text": [
      "tuned hpyerparameters :(best parameters)  {'knn__algorithm': 'auto', 'knn__n_neighbors': 7, 'knn__p': 2, 'pca__n_components': 2}\n",
      "accuracy : 0.9670329567879173\n"
     ]
    }
   ],
   "source": [
    "print(\"tuned hpyerparameters :(best parameters) \",best_model.best_params_)\n",
    "print(\"accuracy :\", best_model.best_score_)"
   ]
  },
  {
   "cell_type": "code",
   "execution_count": 21,
   "id": "aff0c5c5",
   "metadata": {
    "execution": {
     "iopub.execute_input": "2025-10-24T05:55:38.901080Z",
     "iopub.status.busy": "2025-10-24T05:55:38.900216Z",
     "iopub.status.idle": "2025-10-24T05:55:39.116836Z",
     "shell.execute_reply": "2025-10-24T05:55:39.115705Z"
    },
    "papermill": {
     "duration": 0.224276,
     "end_time": "2025-10-24T05:55:39.118195",
     "exception": false,
     "start_time": "2025-10-24T05:55:38.893919",
     "status": "completed"
    },
    "tags": []
   },
   "outputs": [
    {
     "name": "stdout",
     "output_type": "stream",
     "text": [
      "Test set score: 0.970201\n"
     ]
    }
   ],
   "source": [
    "accuracy_knn = best_model.score(X_valid, y_valid)\n",
    "print(\"Test set score: {:.6f}\".format(accuracy_knn))"
   ]
  },
  {
   "cell_type": "code",
   "execution_count": 22,
   "id": "1be56534",
   "metadata": {
    "execution": {
     "iopub.execute_input": "2025-10-24T05:55:39.130721Z",
     "iopub.status.busy": "2025-10-24T05:55:39.130433Z",
     "iopub.status.idle": "2025-10-24T05:55:39.686638Z",
     "shell.execute_reply": "2025-10-24T05:55:39.685806Z"
    },
    "papermill": {
     "duration": 0.564666,
     "end_time": "2025-10-24T05:55:39.688537",
     "exception": false,
     "start_time": "2025-10-24T05:55:39.123871",
     "status": "completed"
    },
    "tags": []
   },
   "outputs": [
    {
     "data": {
      "image/png": "[encoded data removed]",
      "text/plain": [
       "<Figure size 1800x1080 with 2 Axes>"
      ]
     },
     "metadata": {},
     "output_type": "display_data"
    }
   ],
   "source": [
    "yhat_knn = best_model.predict(X_valid)\n",
    "plot_confusion_matrix(y_valid, yhat_knn)"
   ]
  },
  {
   "cell_type": "code",
   "execution_count": 23,
   "id": "d07c66e4",
   "metadata": {
    "execution": {
     "iopub.execute_input": "2025-10-24T05:55:39.703548Z",
     "iopub.status.busy": "2025-10-24T05:55:39.703252Z",
     "iopub.status.idle": "2025-10-24T05:55:39.708277Z",
     "shell.execute_reply": "2025-10-24T05:55:39.707374Z"
    },
    "papermill": {
     "duration": 0.013913,
     "end_time": "2025-10-24T05:55:39.709763",
     "exception": false,
     "start_time": "2025-10-24T05:55:39.695850",
     "status": "completed"
    },
    "tags": []
   },
   "outputs": [],
   "source": [
    "X_test = test.copy()"
   ]
  },
  {
   "cell_type": "code",
   "execution_count": 24,
   "id": "c40394fd",
   "metadata": {
    "execution": {
     "iopub.execute_input": "2025-10-24T05:55:39.724068Z",
     "iopub.status.busy": "2025-10-24T05:55:39.723736Z",
     "iopub.status.idle": "2025-10-24T05:55:39.763340Z",
     "shell.execute_reply": "2025-10-24T05:55:39.762367Z"
    },
    "papermill": {
     "duration": 0.048569,
     "end_time": "2025-10-24T05:55:39.765001",
     "exception": false,
     "start_time": "2025-10-24T05:55:39.716432",
     "status": "completed"
    },
    "tags": []
   },
   "outputs": [],
   "source": [
    "knn_test = best_model.predict_proba(X_test)\n",
    "final_preds = np.argmax(knn_test, axis=1)\n",
    "final_preds = pd.Series(final_preds)"
   ]
  },
  {
   "cell_type": "code",
   "execution_count": 25,
   "id": "e2c6b145",
   "metadata": {
    "execution": {
     "iopub.execute_input": "2025-10-24T05:55:39.779761Z",
     "iopub.status.busy": "2025-10-24T05:55:39.779040Z",
     "iopub.status.idle": "2025-10-24T05:55:39.786929Z",
     "shell.execute_reply": "2025-10-24T05:55:39.786160Z"
    },
    "papermill": {
     "duration": 0.016582,
     "end_time": "2025-10-24T05:55:39.788357",
     "exception": false,
     "start_time": "2025-10-24T05:55:39.771775",
     "status": "completed"
    },
    "tags": []
   },
   "outputs": [],
   "source": [
    "knn_test = final_preds.map({1: 'Extrovert', 0: 'Introvert'})"
   ]
  },
  {
   "cell_type": "code",
   "execution_count": 26,
   "id": "2df8f846",
   "metadata": {
    "execution": {
     "iopub.execute_input": "2025-10-24T05:55:39.803062Z",
     "iopub.status.busy": "2025-10-24T05:55:39.802266Z",
     "iopub.status.idle": "2025-10-24T05:55:39.844383Z",
     "shell.execute_reply": "2025-10-24T05:55:39.843517Z"
    },
    "papermill": {
     "duration": 0.050881,
     "end_time": "2025-10-24T05:55:39.845803",
     "exception": false,
     "start_time": "2025-10-24T05:55:39.794922",
     "status": "completed"
    },
    "tags": []
   },
   "outputs": [
    {
     "name": "stdout",
     "output_type": "stream",
     "text": [
      "Submission file saved as submission.csv\n"
     ]
    },
    {
     "data": {
      "text/html": [
       "<div>\n",
       "<style scoped>\n",
       "    .dataframe tbody tr th:only-of-type {\n",
       "        vertical-align: middle;\n",
       "    }\n",
       "\n",
       "    .dataframe tbody tr th {\n",
       "        vertical-align: top;\n",
       "    }\n",
       "\n",
       "    .dataframe thead th {\n",
       "        text-align: right;\n",
       "    }\n",
       "</style>\n",
       "<table border=\"1\" class=\"dataframe\">\n",
       "  <thead>\n",
       "    <tr style=\"text-align: right;\">\n",
       "      <th></th>\n",
       "      <th>id</th>\n",
       "      <th>Personality</th>\n",
       "    </tr>\n",
       "  </thead>\n",
       "  <tbody>\n",
       "    <tr>\n",
       "      <th>0</th>\n",
       "      <td>18524</td>\n",
       "      <td>Extrovert</td>\n",
       "    </tr>\n",
       "    <tr>\n",
       "      <th>1</th>\n",
       "      <td>18525</td>\n",
       "      <td>Introvert</td>\n",
       "    </tr>\n",
       "    <tr>\n",
       "      <th>2</th>\n",
       "      <td>18526</td>\n",
       "      <td>Extrovert</td>\n",
       "    </tr>\n",
       "    <tr>\n",
       "      <th>3</th>\n",
       "      <td>18527</td>\n",
       "      <td>Extrovert</td>\n",
       "    </tr>\n",
       "    <tr>\n",
       "      <th>4</th>\n",
       "      <td>18528</td>\n",
       "      <td>Introvert</td>\n",
       "    </tr>\n",
       "  </tbody>\n",
       "</table>\n",
       "</div>"
      ],
      "text/plain": [
       "      id Personality\n",
       "0  18524   Extrovert\n",
       "1  18525   Introvert\n",
       "2  18526   Extrovert\n",
       "3  18527   Extrovert\n",
       "4  18528   Introvert"
      ]
     },
     "execution_count": 26,
     "metadata": {},
     "output_type": "execute_result"
    }
   ],
   "source": [
    "sub = pd.read_csv('/kaggle/input/playground-series-s5e7/sample_submission.csv')\n",
    "sub['Personality'] = knn_test\n",
    "sub.to_csv('submission.csv', index=False)\n",
    "print(\"Submission file saved as submission.csv\")\n",
    "sub.head()"
   ]
  }
 ],
 "metadata": {
  "kaggle": {
   "accelerator": "none",
   "dataSources": [
    {
     "databundleVersionId": 12738969,
     "sourceId": 91718,
     "sourceType": "competition"
    }
   ],
   "dockerImageVersionId": 31153,
   "isGpuEnabled": false,
   "isInternetEnabled": true,
   "language": "python",
   "sourceType": "notebook"
  },
  "kernelspec": {
   "display_name": "Python 3",
   "language": "python",
   "name": "python3"
  },
  "language_info": {
   "codemirror_mode": {
    "name": "ipython",
    "version": 3
   },
   "file_extension": ".py",
   "mimetype": "text/x-python",
   "name": "python",
   "nbconvert_exporter": "python",
   "pygments_lexer": "ipython3",
   "version": "3.11.13"
  },
  "papermill": {
   "default_parameters": {},
   "duration": 96.705831,
   "end_time": "2025-10-24T05:55:40.571980",
   "environment_variables": {},
   "exception": null,
   "input_path": "__notebook__.ipynb",
   "output_path": "__notebook__.ipynb",
   "parameters": {},
   "start_time": "2025-10-24T05:54:03.866149",
   "version": "2.6.0"
  }
 },
 "nbformat": 4,
 "nbformat_minor": 5
}
